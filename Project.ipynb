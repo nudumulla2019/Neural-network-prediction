{
  "cells": [
    {
      "cell_type": "code",
      "execution_count": null,
      "metadata": {
        "id": "Pe-M8wbD2Rj1"
      },
      "outputs": [],
      "source": [
        "import pandas\n",
        "from pandas import read_excel\n",
        "from sklearn.preprocessing import StandardScaler, LabelEncoder\n",
        "import matplotlib.pyplot as plt\n",
        "import seaborn as sns\n",
        "from keras.models import Sequential\n",
        "from keras.layers import Dense , Activation\n",
        "from tensorflow.keras.layers.experimental import preprocessing\n",
        "import numpy\n",
        "import tensorflow as tf\n",
        "from keras.callbacks import EarlyStopping\n",
        "from sklearn.datasets import load_boston\n",
        "from keras.models import Sequential\n",
        "from keras.layers import Dense, Conv1D, Flatten\n",
        "from sklearn.model_selection import train_test_split\n",
        "from sklearn.metrics import mean_squared_error\n",
        "import matplotlib.pyplot as plt\n"
      ]
    },
    {
      "cell_type": "code",
      "execution_count": null,
      "metadata": {
        "id": "_4y8ESOm2Sou"
      },
      "outputs": [],
      "source": [
        "data = read_excel(\"/content/sales_project.xlsx\")"
      ]
    },
    {
      "cell_type": "code",
      "execution_count": null,
      "metadata": {
        "colab": {
          "base_uri": "https://localhost:8080/",
          "height": 204
        },
        "id": "_7fVhjr02rB7",
        "outputId": "35afade3-f7cc-41c3-adfd-af861c4769fd"
      },
      "outputs": [
        {
          "output_type": "execute_result",
          "data": {
            "text/plain": [
              "        State   Market Size  Profit  Sales  COGS  Total Expenses  Marketing  \\\n",
              "0  Washington  Small Market      38    130    53              39         16   \n",
              "1  Washington  Small Market      48    150    61              41         19   \n",
              "2  Washington  Small Market      56    167    68              43         21   \n",
              "3  Washington  Small Market      59    145    53              41         16   \n",
              "4  Washington  Small Market      80    180    69              46         22   \n",
              "\n",
              "        Date Product Type name  \n",
              "0 2001-01-10            Coffee  \n",
              "1 2003-01-10            Coffee  \n",
              "2 2010-01-10            Coffee  \n",
              "3 2001-01-11            Coffee  \n",
              "4 2004-01-11            Coffee  "
            ],
            "text/html": [
              "\n",
              "  <div id=\"df-de7738de-5f67-4bbf-af6c-98ebed4f42e8\">\n",
              "    <div class=\"colab-df-container\">\n",
              "      <div>\n",
              "<style scoped>\n",
              "    .dataframe tbody tr th:only-of-type {\n",
              "        vertical-align: middle;\n",
              "    }\n",
              "\n",
              "    .dataframe tbody tr th {\n",
              "        vertical-align: top;\n",
              "    }\n",
              "\n",
              "    .dataframe thead th {\n",
              "        text-align: right;\n",
              "    }\n",
              "</style>\n",
              "<table border=\"1\" class=\"dataframe\">\n",
              "  <thead>\n",
              "    <tr style=\"text-align: right;\">\n",
              "      <th></th>\n",
              "      <th>State</th>\n",
              "      <th>Market Size</th>\n",
              "      <th>Profit</th>\n",
              "      <th>Sales</th>\n",
              "      <th>COGS</th>\n",
              "      <th>Total Expenses</th>\n",
              "      <th>Marketing</th>\n",
              "      <th>Date</th>\n",
              "      <th>Product Type name</th>\n",
              "    </tr>\n",
              "  </thead>\n",
              "  <tbody>\n",
              "    <tr>\n",
              "      <th>0</th>\n",
              "      <td>Washington</td>\n",
              "      <td>Small Market</td>\n",
              "      <td>38</td>\n",
              "      <td>130</td>\n",
              "      <td>53</td>\n",
              "      <td>39</td>\n",
              "      <td>16</td>\n",
              "      <td>2001-01-10</td>\n",
              "      <td>Coffee</td>\n",
              "    </tr>\n",
              "    <tr>\n",
              "      <th>1</th>\n",
              "      <td>Washington</td>\n",
              "      <td>Small Market</td>\n",
              "      <td>48</td>\n",
              "      <td>150</td>\n",
              "      <td>61</td>\n",
              "      <td>41</td>\n",
              "      <td>19</td>\n",
              "      <td>2003-01-10</td>\n",
              "      <td>Coffee</td>\n",
              "    </tr>\n",
              "    <tr>\n",
              "      <th>2</th>\n",
              "      <td>Washington</td>\n",
              "      <td>Small Market</td>\n",
              "      <td>56</td>\n",
              "      <td>167</td>\n",
              "      <td>68</td>\n",
              "      <td>43</td>\n",
              "      <td>21</td>\n",
              "      <td>2010-01-10</td>\n",
              "      <td>Coffee</td>\n",
              "    </tr>\n",
              "    <tr>\n",
              "      <th>3</th>\n",
              "      <td>Washington</td>\n",
              "      <td>Small Market</td>\n",
              "      <td>59</td>\n",
              "      <td>145</td>\n",
              "      <td>53</td>\n",
              "      <td>41</td>\n",
              "      <td>16</td>\n",
              "      <td>2001-01-11</td>\n",
              "      <td>Coffee</td>\n",
              "    </tr>\n",
              "    <tr>\n",
              "      <th>4</th>\n",
              "      <td>Washington</td>\n",
              "      <td>Small Market</td>\n",
              "      <td>80</td>\n",
              "      <td>180</td>\n",
              "      <td>69</td>\n",
              "      <td>46</td>\n",
              "      <td>22</td>\n",
              "      <td>2004-01-11</td>\n",
              "      <td>Coffee</td>\n",
              "    </tr>\n",
              "  </tbody>\n",
              "</table>\n",
              "</div>\n",
              "      <button class=\"colab-df-convert\" onclick=\"convertToInteractive('df-de7738de-5f67-4bbf-af6c-98ebed4f42e8')\"\n",
              "              title=\"Convert this dataframe to an interactive table.\"\n",
              "              style=\"display:none;\">\n",
              "        \n",
              "  <svg xmlns=\"http://www.w3.org/2000/svg\" height=\"24px\"viewBox=\"0 0 24 24\"\n",
              "       width=\"24px\">\n",
              "    <path d=\"M0 0h24v24H0V0z\" fill=\"none\"/>\n",
              "    <path d=\"M18.56 5.44l.94 2.06.94-2.06 2.06-.94-2.06-.94-.94-2.06-.94 2.06-2.06.94zm-11 1L8.5 8.5l.94-2.06 2.06-.94-2.06-.94L8.5 2.5l-.94 2.06-2.06.94zm10 10l.94 2.06.94-2.06 2.06-.94-2.06-.94-.94-2.06-.94 2.06-2.06.94z\"/><path d=\"M17.41 7.96l-1.37-1.37c-.4-.4-.92-.59-1.43-.59-.52 0-1.04.2-1.43.59L10.3 9.45l-7.72 7.72c-.78.78-.78 2.05 0 2.83L4 21.41c.39.39.9.59 1.41.59.51 0 1.02-.2 1.41-.59l7.78-7.78 2.81-2.81c.8-.78.8-2.07 0-2.86zM5.41 20L4 18.59l7.72-7.72 1.47 1.35L5.41 20z\"/>\n",
              "  </svg>\n",
              "      </button>\n",
              "      \n",
              "  <style>\n",
              "    .colab-df-container {\n",
              "      display:flex;\n",
              "      flex-wrap:wrap;\n",
              "      gap: 12px;\n",
              "    }\n",
              "\n",
              "    .colab-df-convert {\n",
              "      background-color: #E8F0FE;\n",
              "      border: none;\n",
              "      border-radius: 50%;\n",
              "      cursor: pointer;\n",
              "      display: none;\n",
              "      fill: #1967D2;\n",
              "      height: 32px;\n",
              "      padding: 0 0 0 0;\n",
              "      width: 32px;\n",
              "    }\n",
              "\n",
              "    .colab-df-convert:hover {\n",
              "      background-color: #E2EBFA;\n",
              "      box-shadow: 0px 1px 2px rgba(60, 64, 67, 0.3), 0px 1px 3px 1px rgba(60, 64, 67, 0.15);\n",
              "      fill: #174EA6;\n",
              "    }\n",
              "\n",
              "    [theme=dark] .colab-df-convert {\n",
              "      background-color: #3B4455;\n",
              "      fill: #D2E3FC;\n",
              "    }\n",
              "\n",
              "    [theme=dark] .colab-df-convert:hover {\n",
              "      background-color: #434B5C;\n",
              "      box-shadow: 0px 1px 3px 1px rgba(0, 0, 0, 0.15);\n",
              "      filter: drop-shadow(0px 1px 2px rgba(0, 0, 0, 0.3));\n",
              "      fill: #FFFFFF;\n",
              "    }\n",
              "  </style>\n",
              "\n",
              "      <script>\n",
              "        const buttonEl =\n",
              "          document.querySelector('#df-de7738de-5f67-4bbf-af6c-98ebed4f42e8 button.colab-df-convert');\n",
              "        buttonEl.style.display =\n",
              "          google.colab.kernel.accessAllowed ? 'block' : 'none';\n",
              "\n",
              "        async function convertToInteractive(key) {\n",
              "          const element = document.querySelector('#df-de7738de-5f67-4bbf-af6c-98ebed4f42e8');\n",
              "          const dataTable =\n",
              "            await google.colab.kernel.invokeFunction('convertToInteractive',\n",
              "                                                     [key], {});\n",
              "          if (!dataTable) return;\n",
              "\n",
              "          const docLinkHtml = 'Like what you see? Visit the ' +\n",
              "            '<a target=\"_blank\" href=https://colab.research.google.com/notebooks/data_table.ipynb>data table notebook</a>'\n",
              "            + ' to learn more about interactive tables.';\n",
              "          element.innerHTML = '';\n",
              "          dataTable['output_type'] = 'display_data';\n",
              "          await google.colab.output.renderOutput(dataTable, element);\n",
              "          const docLink = document.createElement('div');\n",
              "          docLink.innerHTML = docLinkHtml;\n",
              "          element.appendChild(docLink);\n",
              "        }\n",
              "      </script>\n",
              "    </div>\n",
              "  </div>\n",
              "  "
            ]
          },
          "metadata": {},
          "execution_count": 152
        }
      ],
      "source": [
        "data.head()"
      ]
    },
    {
      "cell_type": "code",
      "source": [
        "plt.figure(figsize=(10, 10))\n",
        "ax = sns.heatmap(round(data.corr(), 2), annot=True, cmap=\"YlGnBu\", linewidth = 0.5)\n",
        "plt.show()"
      ],
      "metadata": {
        "colab": {
          "base_uri": "https://localhost:8080/",
          "height": 596
        },
        "id": "i1dY9pAfMpIw",
        "outputId": "0dded9f9-9cfd-47e0-80ee-005717485bf8"
      },
      "execution_count": null,
      "outputs": [
        {
          "output_type": "display_data",
          "data": {
            "text/plain": [
              "<Figure size 720x720 with 2 Axes>"
            ],
            "image/png": "[encoded data removed]"
          },
          "metadata": {
            "needs_background": "light"
          }
        }
      ]
    },
    {
      "cell_type": "code",
      "execution_count": null,
      "metadata": {
        "colab": {
          "base_uri": "https://localhost:8080/"
        },
        "id": "NAXy5JAUA-TR",
        "outputId": "7e0947fe-7151-473c-e937-0c09fb42bfb6"
      },
      "outputs": [
        {
          "output_type": "execute_result",
          "data": {
            "text/plain": [
              "Market Size   State     \n",
              "Major Market  California    288\n",
              "              Florida       216\n",
              "              New York      192\n",
              "              Texas         168\n",
              "Small Market  Washington    240\n",
              "Name: State, dtype: int64"
            ]
          },
          "metadata": {},
          "execution_count": 5
        }
      ],
      "source": [
        "data.groupby(\"Market Size\")['State'].value_counts()"
      ]
    },
    {
      "cell_type": "code",
      "execution_count": null,
      "metadata": {
        "colab": {
          "base_uri": "https://localhost:8080/",
          "height": 404
        },
        "id": "Q8793iTNkQUt",
        "outputId": "2fc52799-1c3d-48e1-e715-de801611cce7"
      },
      "outputs": [
        {
          "output_type": "execute_result",
          "data": {
            "text/plain": [
              "   Profit  Sales  COGS  Total Expenses  Marketing       Date  \\\n",
              "0      38    130    53              39         16 2001-01-10   \n",
              "1      48    150    61              41         19 2003-01-10   \n",
              "2      56    167    68              43         21 2010-01-10   \n",
              "3      59    145    53              41         16 2001-01-11   \n",
              "4      80    180    69              46         22 2004-01-11   \n",
              "\n",
              "   Market Size_Major Market  Market Size_Small Market  \\\n",
              "0                         0                         1   \n",
              "1                         0                         1   \n",
              "2                         0                         1   \n",
              "3                         0                         1   \n",
              "4                         0                         1   \n",
              "\n",
              "   Product Type name_Coffee  Product Type name_Espresso  \\\n",
              "0                         1                           0   \n",
              "1                         1                           0   \n",
              "2                         1                           0   \n",
              "3                         1                           0   \n",
              "4                         1                           0   \n",
              "\n",
              "   Product Type name_Herbal Tea  Product Type name_Tea  State_California  \\\n",
              "0                             0                      0                 0   \n",
              "1                             0                      0                 0   \n",
              "2                             0                      0                 0   \n",
              "3                             0                      0                 0   \n",
              "4                             0                      0                 0   \n",
              "\n",
              "   State_Florida  State_New York  State_Texas  State_Washington  \n",
              "0              0               0            0                 1  \n",
              "1              0               0            0                 1  \n",
              "2              0               0            0                 1  \n",
              "3              0               0            0                 1  \n",
              "4              0               0            0                 1  "
            ],
            "text/html": [
              "\n",
              "  <div id=\"df-c5c95c47-0f79-4f1c-822d-99efaf7cb25d\">\n",
              "    <div class=\"colab-df-container\">\n",
              "      <div>\n",
              "<style scoped>\n",
              "    .dataframe tbody tr th:only-of-type {\n",
              "        vertical-align: middle;\n",
              "    }\n",
              "\n",
              "    .dataframe tbody tr th {\n",
              "        vertical-align: top;\n",
              "    }\n",
              "\n",
              "    .dataframe thead th {\n",
              "        text-align: right;\n",
              "    }\n",
              "</style>\n",
              "<table border=\"1\" class=\"dataframe\">\n",
              "  <thead>\n",
              "    <tr style=\"text-align: right;\">\n",
              "      <th></th>\n",
              "      <th>Profit</th>\n",
              "      <th>Sales</th>\n",
              "      <th>COGS</th>\n",
              "      <th>Total Expenses</th>\n",
              "      <th>Marketing</th>\n",
              "      <th>Date</th>\n",
              "      <th>Market Size_Major Market</th>\n",
              "      <th>Market Size_Small Market</th>\n",
              "      <th>Product Type name_Coffee</th>\n",
              "      <th>Product Type name_Espresso</th>\n",
              "      <th>Product Type name_Herbal Tea</th>\n",
              "      <th>Product Type name_Tea</th>\n",
              "      <th>State_California</th>\n",
              "      <th>State_Florida</th>\n",
              "      <th>State_New York</th>\n",
              "      <th>State_Texas</th>\n",
              "      <th>State_Washington</th>\n",
              "    </tr>\n",
              "  </thead>\n",
              "  <tbody>\n",
              "    <tr>\n",
              "      <th>0</th>\n",
              "      <td>38</td>\n",
              "      <td>130</td>\n",
              "      <td>53</td>\n",
              "      <td>39</td>\n",
              "      <td>16</td>\n",
              "      <td>2001-01-10</td>\n",
              "      <td>0</td>\n",
              "      <td>1</td>\n",
              "      <td>1</td>\n",
              "      <td>0</td>\n",
              "      <td>0</td>\n",
              "      <td>0</td>\n",
              "      <td>0</td>\n",
              "      <td>0</td>\n",
              "      <td>0</td>\n",
              "      <td>0</td>\n",
              "      <td>1</td>\n",
              "    </tr>\n",
              "    <tr>\n",
              "      <th>1</th>\n",
              "      <td>48</td>\n",
              "      <td>150</td>\n",
              "      <td>61</td>\n",
              "      <td>41</td>\n",
              "      <td>19</td>\n",
              "      <td>2003-01-10</td>\n",
              "      <td>0</td>\n",
              "      <td>1</td>\n",
              "      <td>1</td>\n",
              "      <td>0</td>\n",
              "      <td>0</td>\n",
              "      <td>0</td>\n",
              "      <td>0</td>\n",
              "      <td>0</td>\n",
              "      <td>0</td>\n",
              "      <td>0</td>\n",
              "      <td>1</td>\n",
              "    </tr>\n",
              "    <tr>\n",
              "      <th>2</th>\n",
              "      <td>56</td>\n",
              "      <td>167</td>\n",
              "      <td>68</td>\n",
              "      <td>43</td>\n",
              "      <td>21</td>\n",
              "      <td>2010-01-10</td>\n",
              "      <td>0</td>\n",
              "      <td>1</td>\n",
              "      <td>1</td>\n",
              "      <td>0</td>\n",
              "      <td>0</td>\n",
              "      <td>0</td>\n",
              "      <td>0</td>\n",
              "      <td>0</td>\n",
              "      <td>0</td>\n",
              "      <td>0</td>\n",
              "      <td>1</td>\n",
              "    </tr>\n",
              "    <tr>\n",
              "      <th>3</th>\n",
              "      <td>59</td>\n",
              "      <td>145</td>\n",
              "      <td>53</td>\n",
              "      <td>41</td>\n",
              "      <td>16</td>\n",
              "      <td>2001-01-11</td>\n",
              "      <td>0</td>\n",
              "      <td>1</td>\n",
              "      <td>1</td>\n",
              "      <td>0</td>\n",
              "      <td>0</td>\n",
              "      <td>0</td>\n",
              "      <td>0</td>\n",
              "      <td>0</td>\n",
              "      <td>0</td>\n",
              "      <td>0</td>\n",
              "      <td>1</td>\n",
              "    </tr>\n",
              "    <tr>\n",
              "      <th>4</th>\n",
              "      <td>80</td>\n",
              "      <td>180</td>\n",
              "      <td>69</td>\n",
              "      <td>46</td>\n",
              "      <td>22</td>\n",
              "      <td>2004-01-11</td>\n",
              "      <td>0</td>\n",
              "      <td>1</td>\n",
              "      <td>1</td>\n",
              "      <td>0</td>\n",
              "      <td>0</td>\n",
              "      <td>0</td>\n",
              "      <td>0</td>\n",
              "      <td>0</td>\n",
              "      <td>0</td>\n",
              "      <td>0</td>\n",
              "      <td>1</td>\n",
              "    </tr>\n",
              "  </tbody>\n",
              "</table>\n",
              "</div>\n",
              "      <button class=\"colab-df-convert\" onclick=\"convertToInteractive('df-c5c95c47-0f79-4f1c-822d-99efaf7cb25d')\"\n",
              "              title=\"Convert this dataframe to an interactive table.\"\n",
              "              style=\"display:none;\">\n",
              "        \n",
              "  <svg xmlns=\"http://www.w3.org/2000/svg\" height=\"24px\"viewBox=\"0 0 24 24\"\n",
              "       width=\"24px\">\n",
              "    <path d=\"M0 0h24v24H0V0z\" fill=\"none\"/>\n",
              "    <path d=\"M18.56 5.44l.94 2.06.94-2.06 2.06-.94-2.06-.94-.94-2.06-.94 2.06-2.06.94zm-11 1L8.5 8.5l.94-2.06 2.06-.94-2.06-.94L8.5 2.5l-.94 2.06-2.06.94zm10 10l.94 2.06.94-2.06 2.06-.94-2.06-.94-.94-2.06-.94 2.06-2.06.94z\"/><path d=\"M17.41 7.96l-1.37-1.37c-.4-.4-.92-.59-1.43-.59-.52 0-1.04.2-1.43.59L10.3 9.45l-7.72 7.72c-.78.78-.78 2.05 0 2.83L4 21.41c.39.39.9.59 1.41.59.51 0 1.02-.2 1.41-.59l7.78-7.78 2.81-2.81c.8-.78.8-2.07 0-2.86zM5.41 20L4 18.59l7.72-7.72 1.47 1.35L5.41 20z\"/>\n",
              "  </svg>\n",
              "      </button>\n",
              "      \n",
              "  <style>\n",
              "    .colab-df-container {\n",
              "      display:flex;\n",
              "      flex-wrap:wrap;\n",
              "      gap: 12px;\n",
              "    }\n",
              "\n",
              "    .colab-df-convert {\n",
              "      background-color: #E8F0FE;\n",
              "      border: none;\n",
              "      border-radius: 50%;\n",
              "      cursor: pointer;\n",
              "      display: none;\n",
              "      fill: #1967D2;\n",
              "      height: 32px;\n",
              "      padding: 0 0 0 0;\n",
              "      width: 32px;\n",
              "    }\n",
              "\n",
              "    .colab-df-convert:hover {\n",
              "      background-color: #E2EBFA;\n",
              "      box-shadow: 0px 1px 2px rgba(60, 64, 67, 0.3), 0px 1px 3px 1px rgba(60, 64, 67, 0.15);\n",
              "      fill: #174EA6;\n",
              "    }\n",
              "\n",
              "    [theme=dark] .colab-df-convert {\n",
              "      background-color: #3B4455;\n",
              "      fill: #D2E3FC;\n",
              "    }\n",
              "\n",
              "    [theme=dark] .colab-df-convert:hover {\n",
              "      background-color: #434B5C;\n",
              "      box-shadow: 0px 1px 3px 1px rgba(0, 0, 0, 0.15);\n",
              "      filter: drop-shadow(0px 1px 2px rgba(0, 0, 0, 0.3));\n",
              "      fill: #FFFFFF;\n",
              "    }\n",
              "  </style>\n",
              "\n",
              "      <script>\n",
              "        const buttonEl =\n",
              "          document.querySelector('#df-c5c95c47-0f79-4f1c-822d-99efaf7cb25d button.colab-df-convert');\n",
              "        buttonEl.style.display =\n",
              "          google.colab.kernel.accessAllowed ? 'block' : 'none';\n",
              "\n",
              "        async function convertToInteractive(key) {\n",
              "          const element = document.querySelector('#df-c5c95c47-0f79-4f1c-822d-99efaf7cb25d');\n",
              "          const dataTable =\n",
              "            await google.colab.kernel.invokeFunction('convertToInteractive',\n",
              "                                                     [key], {});\n",
              "          if (!dataTable) return;\n",
              "\n",
              "          const docLinkHtml = 'Like what you see? Visit the ' +\n",
              "            '<a target=\"_blank\" href=https://colab.research.google.com/notebooks/data_table.ipynb>data table notebook</a>'\n",
              "            + ' to learn more about interactive tables.';\n",
              "          element.innerHTML = '';\n",
              "          dataTable['output_type'] = 'display_data';\n",
              "          await google.colab.output.renderOutput(dataTable, element);\n",
              "          const docLink = document.createElement('div');\n",
              "          docLink.innerHTML = docLinkHtml;\n",
              "          element.appendChild(docLink);\n",
              "        }\n",
              "      </script>\n",
              "    </div>\n",
              "  </div>\n",
              "  "
            ]
          },
          "metadata": {},
          "execution_count": 6
        }
      ],
      "source": [
        "df = pandas.get_dummies(data, \n",
        "                            columns=[\"Market Size\",\"Product Type name\",\"State\"], \n",
        "                            drop_first=False)\n",
        "df.head()"
      ]
    },
    {
      "cell_type": "code",
      "execution_count": null,
      "metadata": {
        "id": "LDxeRLw_kQab",
        "colab": {
          "base_uri": "https://localhost:8080/"
        },
        "outputId": "ee3982fc-49a0-49ec-8824-61bd03c97d83"
      },
      "outputs": [
        {
          "output_type": "execute_result",
          "data": {
            "text/plain": [
              "(1104, 17)"
            ]
          },
          "metadata": {},
          "execution_count": 7
        }
      ],
      "source": [
        "df.shape"
      ]
    },
    {
      "cell_type": "code",
      "source": [
        "list(df.columns)"
      ],
      "metadata": {
        "colab": {
          "base_uri": "https://localhost:8080/"
        },
        "id": "IGbuNSVP-Occ",
        "outputId": "dc952f0e-d815-49c8-9e77-20465fd674a2"
      },
      "execution_count": null,
      "outputs": [
        {
          "output_type": "execute_result",
          "data": {
            "text/plain": [
              "['Profit',\n",
              " 'Sales',\n",
              " 'COGS',\n",
              " 'Total Expenses',\n",
              " 'Marketing',\n",
              " 'Date',\n",
              " 'Market Size_Major Market',\n",
              " 'Market Size_Small Market',\n",
              " 'Product Type name_Coffee',\n",
              " 'Product Type name_Espresso',\n",
              " 'Product Type name_Herbal Tea',\n",
              " 'Product Type name_Tea',\n",
              " 'State_California',\n",
              " 'State_Florida',\n",
              " 'State_New York',\n",
              " 'State_Texas',\n",
              " 'State_Washington']"
            ]
          },
          "metadata": {},
          "execution_count": 8
        }
      ]
    },
    {
      "cell_type": "code",
      "execution_count": null,
      "metadata": {
        "colab": {
          "base_uri": "https://localhost:8080/"
        },
        "id": "5J_Hn3Wq7MZw",
        "outputId": "4e204cfe-fec6-4c1c-adb8-3f8225687622"
      },
      "outputs": [
        {
          "output_type": "execute_result",
          "data": {
            "text/plain": [
              "(1104, 17)"
            ]
          },
          "metadata": {},
          "execution_count": 9
        }
      ],
      "source": [
        "df.shape"
      ]
    },
    {
      "cell_type": "code",
      "source": [
        "df_new = df.drop(['Profit','Date'],axis = 1)\n",
        "x= df_new[df_new.columns]\n",
        "y = df[\"Profit\"]\n",
        "x.shape,y.shape"
      ],
      "metadata": {
        "colab": {
          "base_uri": "https://localhost:8080/"
        },
        "id": "K6SdMcWY_Pa7",
        "outputId": "51b02ffa-5439-43e1-ddfb-8a98a410e8b8"
      },
      "execution_count": null,
      "outputs": [
        {
          "output_type": "execute_result",
          "data": {
            "text/plain": [
              "((1104, 15), (1104,))"
            ]
          },
          "metadata": {},
          "execution_count": 10
        }
      ]
    },
    {
      "cell_type": "markdown",
      "source": [
        "# **Data Splitting**"
      ],
      "metadata": {
        "id": "-Sg04keEx5fk"
      }
    },
    {
      "cell_type": "code",
      "source": [
        "x_train = x[:884]\n",
        "x_test = x[884:]\n",
        "\n",
        "y_train = y[:884]\n",
        "y_test = y[884:]"
      ],
      "metadata": {
        "id": "5_a6CpJwZAyb"
      },
      "execution_count": null,
      "outputs": []
    },
    {
      "cell_type": "code",
      "source": [],
      "metadata": {
        "id": "F8AgRpO7ZBAd"
      },
      "execution_count": null,
      "outputs": []
    },
    {
      "cell_type": "code",
      "source": [],
      "metadata": {
        "id": "lq86v1klZBFi"
      },
      "execution_count": null,
      "outputs": []
    },
    {
      "cell_type": "code",
      "execution_count": null,
      "metadata": {
        "colab": {
          "base_uri": "https://localhost:8080/"
        },
        "id": "LO4QbQpICNj1",
        "outputId": "9b7854bb-e69f-4822-cbff-c3dfd2ad5013"
      },
      "outputs": [
        {
          "output_type": "execute_result",
          "data": {
            "text/plain": [
              "938.4"
            ]
          },
          "metadata": {},
          "execution_count": 69
        }
      ],
      "source": [
        "1104*.85"
      ]
    },
    {
      "cell_type": "markdown",
      "source": [
        "## **Plot of the Profit data**"
      ],
      "metadata": {
        "id": "enFAQ6espnCQ"
      }
    },
    {
      "cell_type": "code",
      "source": [
        "plt.plot(y_train)\n",
        "plt.plot(y_test)\n",
        "plt.ylabel('Profit')\n",
        "plt.xticks(rotation=45)\n",
        "plt.title(\"Train/Test split for Profit Data\")\n",
        "plt.show()"
      ],
      "metadata": {
        "colab": {
          "base_uri": "https://localhost:8080/",
          "height": 296
        },
        "id": "tFQ9QoycHtGx",
        "outputId": "fdefcd2c-4a67-4e21-8f7c-115cf8ac394b"
      },
      "execution_count": null,
      "outputs": [
        {
          "output_type": "display_data",
          "data": {
            "text/plain": [
              "<Figure size 432x288 with 1 Axes>"
            ],
            "image/png": "[encoded data removed]"
          },
          "metadata": {
            "needs_background": "light"
          }
        }
      ]
    },
    {
      "cell_type": "code",
      "source": [
        "df['Profit'].describe()"
      ],
      "metadata": {
        "colab": {
          "base_uri": "https://localhost:8080/"
        },
        "id": "3oV84nmb2Wvu",
        "outputId": "9f88c590-a8c7-429a-ab60-cd25b02dbe51"
      },
      "execution_count": null,
      "outputs": [
        {
          "output_type": "execute_result",
          "data": {
            "text/plain": [
              "count    1104.000000\n",
              "mean       82.755435\n",
              "std       128.224029\n",
              "min      -420.000000\n",
              "25%        30.000000\n",
              "50%        65.000000\n",
              "75%       134.000000\n",
              "max       646.000000\n",
              "Name: Profit, dtype: float64"
            ]
          },
          "metadata": {},
          "execution_count": 54
        }
      ]
    },
    {
      "cell_type": "code",
      "source": [],
      "metadata": {
        "id": "k64rii102WyM"
      },
      "execution_count": null,
      "outputs": []
    },
    {
      "cell_type": "code",
      "source": [],
      "metadata": {
        "id": "EA4mCM3T2W04"
      },
      "execution_count": null,
      "outputs": []
    },
    {
      "cell_type": "code",
      "source": [],
      "metadata": {
        "id": "IHwzCKn42W3c"
      },
      "execution_count": null,
      "outputs": []
    },
    {
      "cell_type": "markdown",
      "source": [],
      "metadata": {
        "id": "YEYu-2GFNQ__"
      }
    },
    {
      "cell_type": "markdown",
      "source": [
        "# **Model building**"
      ],
      "metadata": {
        "id": "R7-fm93MNRIc"
      }
    },
    {
      "cell_type": "code",
      "execution_count": null,
      "metadata": {
        "id": "dbaoa-4sD-uF",
        "colab": {
          "base_uri": "https://localhost:8080/"
        },
        "outputId": "1cadabcb-661f-4bd6-dbc6-f411bccaa616"
      },
      "outputs": [
        {
          "output_type": "stream",
          "name": "stdout",
          "text": [
            "Epoch 1/2000\n",
            "24/24 [==============================] - 1s 10ms/step - loss: 6531.1460 - val_loss: 4084.7739\n",
            "Epoch 2/2000\n",
            "24/24 [==============================] - 0s 8ms/step - loss: 2382.1094 - val_loss: 1550.2145\n",
            "Epoch 3/2000\n",
            "24/24 [==============================] - 0s 5ms/step - loss: 1034.2410 - val_loss: 724.1074\n",
            "Epoch 4/2000\n",
            "24/24 [==============================] - 0s 7ms/step - loss: 656.0332 - val_loss: 538.2732\n",
            "Epoch 5/2000\n",
            "24/24 [==============================] - 0s 3ms/step - loss: 531.4243 - val_loss: 468.6559\n",
            "Epoch 6/2000\n",
            "24/24 [==============================] - 0s 6ms/step - loss: 501.7373 - val_loss: 464.0237\n",
            "Epoch 7/2000\n",
            "24/24 [==============================] - 0s 6ms/step - loss: 497.9136 - val_loss: 546.4590\n",
            "Epoch 8/2000\n",
            "24/24 [==============================] - 0s 3ms/step - loss: 524.3956 - val_loss: 468.4047\n",
            "Epoch 9/2000\n",
            "24/24 [==============================] - 0s 3ms/step - loss: 543.6544 - val_loss: 494.6988\n",
            "Epoch 10/2000\n",
            "24/24 [==============================] - 0s 4ms/step - loss: 708.6833 - val_loss: 476.9475\n",
            "Epoch 11/2000\n",
            "24/24 [==============================] - 0s 4ms/step - loss: 816.6060 - val_loss: 688.7129\n",
            "Epoch 12/2000\n",
            "24/24 [==============================] - 0s 5ms/step - loss: 630.7546 - val_loss: 628.5146\n",
            "Epoch 13/2000\n",
            "24/24 [==============================] - 0s 3ms/step - loss: 537.1411 - val_loss: 528.8285\n",
            "Epoch 14/2000\n",
            "24/24 [==============================] - 0s 4ms/step - loss: 475.5395 - val_loss: 518.1637\n",
            "Epoch 15/2000\n",
            "24/24 [==============================] - 0s 4ms/step - loss: 475.8435 - val_loss: 454.6857\n",
            "Epoch 16/2000\n",
            "24/24 [==============================] - 0s 4ms/step - loss: 488.9517 - val_loss: 454.7371\n",
            "Epoch 17/2000\n",
            "24/24 [==============================] - 0s 4ms/step - loss: 470.9549 - val_loss: 467.6104\n",
            "Epoch 18/2000\n",
            "24/24 [==============================] - 0s 6ms/step - loss: 478.9872 - val_loss: 453.5835\n",
            "Epoch 19/2000\n",
            "24/24 [==============================] - 0s 2ms/step - loss: 471.3051 - val_loss: 480.2456\n",
            "Epoch 20/2000\n",
            "24/24 [==============================] - 0s 2ms/step - loss: 466.2509 - val_loss: 484.8933\n",
            "Epoch 21/2000\n",
            "24/24 [==============================] - 0s 3ms/step - loss: 463.4352 - val_loss: 526.4942\n",
            "Epoch 22/2000\n",
            "24/24 [==============================] - 0s 2ms/step - loss: 453.2243 - val_loss: 502.0612\n",
            "Epoch 23/2000\n",
            "24/24 [==============================] - 0s 3ms/step - loss: 479.7927 - val_loss: 492.6899\n",
            "Epoch 24/2000\n",
            "24/24 [==============================] - 0s 3ms/step - loss: 486.1765 - val_loss: 502.2194\n",
            "Epoch 25/2000\n",
            "24/24 [==============================] - 0s 3ms/step - loss: 508.5544 - val_loss: 715.2572\n",
            "Epoch 26/2000\n",
            "24/24 [==============================] - 0s 3ms/step - loss: 517.5050 - val_loss: 499.4591\n",
            "Epoch 27/2000\n",
            "24/24 [==============================] - 0s 3ms/step - loss: 463.1085 - val_loss: 531.0851\n",
            "Epoch 28/2000\n",
            "24/24 [==============================] - 0s 2ms/step - loss: 458.2045 - val_loss: 492.0186\n",
            "Epoch 29/2000\n",
            "24/24 [==============================] - 0s 2ms/step - loss: 448.0113 - val_loss: 481.2470\n",
            "Epoch 30/2000\n",
            "24/24 [==============================] - 0s 3ms/step - loss: 474.5062 - val_loss: 622.0025\n",
            "Epoch 31/2000\n",
            "24/24 [==============================] - 0s 2ms/step - loss: 477.9217 - val_loss: 505.1725\n",
            "Epoch 32/2000\n",
            "24/24 [==============================] - 0s 3ms/step - loss: 484.1885 - val_loss: 616.7773\n",
            "Epoch 33/2000\n",
            "24/24 [==============================] - 0s 3ms/step - loss: 470.1196 - val_loss: 483.3287\n",
            "Epoch 34/2000\n",
            "24/24 [==============================] - 0s 2ms/step - loss: 476.2950 - val_loss: 493.3495\n",
            "Epoch 35/2000\n",
            "24/24 [==============================] - 0s 2ms/step - loss: 519.2188 - val_loss: 491.2548\n",
            "Epoch 36/2000\n",
            "24/24 [==============================] - 0s 2ms/step - loss: 506.8347 - val_loss: 530.5818\n",
            "Epoch 37/2000\n",
            "24/24 [==============================] - 0s 3ms/step - loss: 488.3717 - val_loss: 541.3398\n",
            "Epoch 38/2000\n",
            "24/24 [==============================] - 0s 2ms/step - loss: 484.0966 - val_loss: 486.8341\n",
            "Epoch 39/2000\n",
            "24/24 [==============================] - 0s 2ms/step - loss: 443.7302 - val_loss: 508.0765\n",
            "Epoch 40/2000\n",
            "24/24 [==============================] - 0s 2ms/step - loss: 435.6654 - val_loss: 486.0927\n",
            "Epoch 41/2000\n",
            "24/24 [==============================] - 0s 2ms/step - loss: 444.3107 - val_loss: 477.7792\n",
            "Epoch 42/2000\n",
            "24/24 [==============================] - 0s 2ms/step - loss: 443.1111 - val_loss: 483.4000\n",
            "Epoch 43/2000\n",
            "24/24 [==============================] - 0s 2ms/step - loss: 452.7690 - val_loss: 594.7487\n",
            "Epoch 44/2000\n",
            "24/24 [==============================] - 0s 3ms/step - loss: 478.7594 - val_loss: 497.0436\n",
            "Epoch 45/2000\n",
            "24/24 [==============================] - 0s 2ms/step - loss: 437.2967 - val_loss: 508.6340\n",
            "Epoch 46/2000\n",
            "24/24 [==============================] - 0s 2ms/step - loss: 506.2982 - val_loss: 540.3452\n",
            "Epoch 47/2000\n",
            "24/24 [==============================] - 0s 2ms/step - loss: 456.2435 - val_loss: 491.6703\n",
            "Epoch 48/2000\n",
            "24/24 [==============================] - 0s 2ms/step - loss: 470.9062 - val_loss: 483.6137\n",
            "Epoch 49/2000\n",
            "24/24 [==============================] - 0s 2ms/step - loss: 487.1620 - val_loss: 482.1917\n",
            "Epoch 50/2000\n",
            "24/24 [==============================] - 0s 3ms/step - loss: 470.6728 - val_loss: 526.3303\n",
            "Epoch 51/2000\n",
            "24/24 [==============================] - 0s 2ms/step - loss: 461.3998 - val_loss: 530.7344\n",
            "Epoch 52/2000\n",
            "24/24 [==============================] - 0s 2ms/step - loss: 451.8987 - val_loss: 532.9461\n",
            "Epoch 53/2000\n",
            "24/24 [==============================] - 0s 2ms/step - loss: 469.8678 - val_loss: 626.2416\n",
            "Epoch 54/2000\n",
            "24/24 [==============================] - 0s 3ms/step - loss: 453.3049 - val_loss: 480.1218\n",
            "Epoch 55/2000\n",
            "24/24 [==============================] - 0s 3ms/step - loss: 480.4476 - val_loss: 502.8000\n",
            "Epoch 56/2000\n",
            "24/24 [==============================] - 0s 2ms/step - loss: 445.3474 - val_loss: 480.0842\n",
            "Epoch 57/2000\n",
            "24/24 [==============================] - 0s 2ms/step - loss: 445.5898 - val_loss: 542.0507\n",
            "Epoch 58/2000\n",
            "24/24 [==============================] - 0s 2ms/step - loss: 539.6820 - val_loss: 823.9478\n",
            "Epoch 59/2000\n",
            "24/24 [==============================] - 0s 2ms/step - loss: 616.8339 - val_loss: 736.1351\n",
            "Epoch 60/2000\n",
            "24/24 [==============================] - 0s 3ms/step - loss: 501.9634 - val_loss: 581.6113\n",
            "Epoch 61/2000\n",
            "24/24 [==============================] - 0s 2ms/step - loss: 492.6777 - val_loss: 524.2120\n",
            "Epoch 62/2000\n",
            "24/24 [==============================] - 0s 2ms/step - loss: 437.9248 - val_loss: 615.6829\n",
            "Epoch 63/2000\n",
            "24/24 [==============================] - 0s 2ms/step - loss: 462.8011 - val_loss: 509.1888\n",
            "Epoch 64/2000\n",
            "24/24 [==============================] - 0s 2ms/step - loss: 486.4701 - val_loss: 492.4116\n",
            "Epoch 65/2000\n",
            "24/24 [==============================] - 0s 2ms/step - loss: 534.7396 - val_loss: 496.0659\n",
            "Epoch 66/2000\n",
            "24/24 [==============================] - 0s 2ms/step - loss: 479.2029 - val_loss: 496.0472\n",
            "Epoch 67/2000\n",
            "24/24 [==============================] - 0s 2ms/step - loss: 445.0274 - val_loss: 494.7449\n",
            "Epoch 68/2000\n",
            "24/24 [==============================] - 0s 2ms/step - loss: 450.8433 - val_loss: 471.6614\n",
            "Epoch 69/2000\n",
            "24/24 [==============================] - 0s 2ms/step - loss: 456.0833 - val_loss: 520.4697\n",
            "Epoch 70/2000\n",
            "24/24 [==============================] - 0s 2ms/step - loss: 425.1360 - val_loss: 491.8001\n",
            "Epoch 71/2000\n",
            "24/24 [==============================] - 0s 2ms/step - loss: 430.4366 - val_loss: 481.1949\n",
            "Epoch 72/2000\n",
            "24/24 [==============================] - 0s 2ms/step - loss: 452.4857 - val_loss: 597.8478\n",
            "Epoch 73/2000\n",
            "24/24 [==============================] - 0s 2ms/step - loss: 531.9685 - val_loss: 514.1492\n",
            "Epoch 74/2000\n",
            "24/24 [==============================] - 0s 2ms/step - loss: 430.7724 - val_loss: 502.4920\n",
            "Epoch 75/2000\n",
            "24/24 [==============================] - 0s 2ms/step - loss: 432.3093 - val_loss: 491.3660\n",
            "Epoch 76/2000\n",
            "24/24 [==============================] - 0s 3ms/step - loss: 447.6475 - val_loss: 530.2921\n",
            "Epoch 77/2000\n",
            "24/24 [==============================] - 0s 2ms/step - loss: 471.5351 - val_loss: 592.7599\n",
            "Epoch 78/2000\n",
            "24/24 [==============================] - 0s 2ms/step - loss: 488.4211 - val_loss: 578.3407\n",
            "Epoch 79/2000\n",
            "24/24 [==============================] - 0s 2ms/step - loss: 461.3854 - val_loss: 493.4743\n",
            "Epoch 80/2000\n",
            "24/24 [==============================] - 0s 3ms/step - loss: 455.0916 - val_loss: 539.5764\n",
            "Epoch 81/2000\n",
            "24/24 [==============================] - 0s 2ms/step - loss: 451.8648 - val_loss: 480.0964\n",
            "Epoch 82/2000\n",
            "24/24 [==============================] - 0s 2ms/step - loss: 420.6325 - val_loss: 532.5001\n",
            "Epoch 83/2000\n",
            "24/24 [==============================] - 0s 2ms/step - loss: 425.7421 - val_loss: 493.4643\n",
            "Epoch 84/2000\n",
            "24/24 [==============================] - 0s 3ms/step - loss: 486.4075 - val_loss: 499.0190\n",
            "Epoch 85/2000\n",
            "24/24 [==============================] - 0s 2ms/step - loss: 477.4483 - val_loss: 492.6787\n",
            "Epoch 86/2000\n",
            "24/24 [==============================] - 0s 2ms/step - loss: 446.1867 - val_loss: 518.7957\n",
            "Epoch 87/2000\n",
            "24/24 [==============================] - 0s 3ms/step - loss: 453.5542 - val_loss: 481.1050\n",
            "Epoch 88/2000\n",
            "24/24 [==============================] - 0s 2ms/step - loss: 425.2620 - val_loss: 531.8336\n",
            "Epoch 89/2000\n",
            "24/24 [==============================] - 0s 3ms/step - loss: 442.0112 - val_loss: 554.3085\n",
            "Epoch 90/2000\n",
            "24/24 [==============================] - 0s 2ms/step - loss: 456.9985 - val_loss: 492.0789\n",
            "Epoch 91/2000\n",
            "24/24 [==============================] - 0s 3ms/step - loss: 467.7433 - val_loss: 498.1946\n",
            "Epoch 92/2000\n",
            "24/24 [==============================] - 0s 2ms/step - loss: 541.9255 - val_loss: 552.0029\n",
            "Epoch 93/2000\n",
            "24/24 [==============================] - 0s 3ms/step - loss: 431.9042 - val_loss: 502.7128\n",
            "Epoch 94/2000\n",
            "24/24 [==============================] - 0s 2ms/step - loss: 444.1028 - val_loss: 806.0917\n",
            "Epoch 95/2000\n",
            "24/24 [==============================] - 0s 3ms/step - loss: 482.2812 - val_loss: 501.8016\n",
            "Epoch 96/2000\n",
            "24/24 [==============================] - 0s 2ms/step - loss: 438.3286 - val_loss: 506.8800\n",
            "Epoch 97/2000\n",
            "24/24 [==============================] - 0s 2ms/step - loss: 454.8750 - val_loss: 565.2031\n",
            "Epoch 98/2000\n",
            "24/24 [==============================] - 0s 3ms/step - loss: 429.8971 - val_loss: 534.5282\n",
            "Epoch 99/2000\n",
            "24/24 [==============================] - 0s 2ms/step - loss: 477.5432 - val_loss: 529.7043\n",
            "Epoch 100/2000\n",
            "24/24 [==============================] - 0s 2ms/step - loss: 415.7162 - val_loss: 505.7018\n",
            "Epoch 101/2000\n",
            "24/24 [==============================] - 0s 2ms/step - loss: 412.6233 - val_loss: 491.7809\n",
            "Epoch 102/2000\n",
            "24/24 [==============================] - 0s 2ms/step - loss: 465.9201 - val_loss: 639.8657\n",
            "Epoch 103/2000\n",
            "24/24 [==============================] - 0s 3ms/step - loss: 447.1569 - val_loss: 553.5078\n",
            "Epoch 104/2000\n",
            "24/24 [==============================] - 0s 3ms/step - loss: 417.7847 - val_loss: 484.3113\n",
            "Epoch 105/2000\n",
            "24/24 [==============================] - 0s 3ms/step - loss: 421.2401 - val_loss: 513.4377\n",
            "Epoch 106/2000\n",
            "24/24 [==============================] - 0s 2ms/step - loss: 486.3207 - val_loss: 538.0986\n",
            "Epoch 107/2000\n",
            "24/24 [==============================] - 0s 2ms/step - loss: 451.5526 - val_loss: 506.9700\n",
            "Epoch 108/2000\n",
            "24/24 [==============================] - 0s 2ms/step - loss: 413.1187 - val_loss: 485.6253\n",
            "Epoch 109/2000\n",
            "24/24 [==============================] - 0s 2ms/step - loss: 455.8800 - val_loss: 488.6556\n",
            "Epoch 110/2000\n",
            "24/24 [==============================] - 0s 2ms/step - loss: 400.1423 - val_loss: 486.9561\n",
            "Epoch 111/2000\n",
            "24/24 [==============================] - 0s 2ms/step - loss: 403.0799 - val_loss: 495.6061\n",
            "Epoch 112/2000\n",
            "24/24 [==============================] - 0s 3ms/step - loss: 453.0294 - val_loss: 505.8065\n",
            "Epoch 113/2000\n",
            "24/24 [==============================] - 0s 2ms/step - loss: 466.8571 - val_loss: 526.4902\n",
            "Epoch 114/2000\n",
            "24/24 [==============================] - 0s 3ms/step - loss: 411.5363 - val_loss: 490.2813\n",
            "Epoch 115/2000\n",
            "24/24 [==============================] - 0s 2ms/step - loss: 458.9943 - val_loss: 490.6356\n",
            "Epoch 116/2000\n",
            "24/24 [==============================] - 0s 2ms/step - loss: 480.9177 - val_loss: 518.0672\n",
            "Epoch 117/2000\n",
            "24/24 [==============================] - 0s 2ms/step - loss: 414.8499 - val_loss: 518.0536\n",
            "Epoch 118/2000\n",
            "24/24 [==============================] - 0s 2ms/step - loss: 421.6151 - val_loss: 488.5663\n",
            "Epoch 119/2000\n",
            "24/24 [==============================] - 0s 2ms/step - loss: 430.2466 - val_loss: 541.7205\n",
            "Epoch 120/2000\n",
            "24/24 [==============================] - 0s 2ms/step - loss: 442.1366 - val_loss: 492.1650\n",
            "Epoch 121/2000\n",
            "24/24 [==============================] - 0s 2ms/step - loss: 463.2018 - val_loss: 525.0944\n",
            "Epoch 122/2000\n",
            "24/24 [==============================] - 0s 2ms/step - loss: 415.8426 - val_loss: 492.3135\n",
            "Epoch 123/2000\n",
            "24/24 [==============================] - 0s 2ms/step - loss: 465.3951 - val_loss: 503.2779\n",
            "Epoch 124/2000\n",
            "24/24 [==============================] - 0s 3ms/step - loss: 458.4844 - val_loss: 575.3438\n",
            "Epoch 125/2000\n",
            "24/24 [==============================] - 0s 2ms/step - loss: 471.9847 - val_loss: 481.1973\n",
            "Epoch 126/2000\n",
            "24/24 [==============================] - 0s 2ms/step - loss: 456.6543 - val_loss: 478.1342\n",
            "Epoch 127/2000\n",
            "24/24 [==============================] - 0s 3ms/step - loss: 410.2887 - val_loss: 488.7237\n",
            "Epoch 128/2000\n",
            "24/24 [==============================] - 0s 2ms/step - loss: 406.2051 - val_loss: 505.0530\n",
            "Epoch 129/2000\n",
            "24/24 [==============================] - 0s 2ms/step - loss: 412.3412 - val_loss: 482.9715\n",
            "Epoch 130/2000\n",
            "24/24 [==============================] - 0s 3ms/step - loss: 415.2891 - val_loss: 498.8100\n",
            "Epoch 131/2000\n",
            "24/24 [==============================] - 0s 2ms/step - loss: 409.8666 - val_loss: 537.2151\n",
            "Epoch 132/2000\n",
            "24/24 [==============================] - 0s 2ms/step - loss: 436.4098 - val_loss: 600.8917\n",
            "Epoch 133/2000\n",
            "24/24 [==============================] - 0s 2ms/step - loss: 414.7079 - val_loss: 504.3771\n",
            "Epoch 134/2000\n",
            "24/24 [==============================] - 0s 2ms/step - loss: 407.9364 - val_loss: 502.9175\n",
            "Epoch 135/2000\n",
            "24/24 [==============================] - 0s 2ms/step - loss: 425.0218 - val_loss: 526.3865\n",
            "Epoch 136/2000\n",
            "24/24 [==============================] - 0s 2ms/step - loss: 403.8553 - val_loss: 518.1754\n",
            "Epoch 137/2000\n",
            "24/24 [==============================] - 0s 2ms/step - loss: 409.3021 - val_loss: 495.3392\n",
            "Epoch 138/2000\n",
            "24/24 [==============================] - 0s 2ms/step - loss: 428.8896 - val_loss: 530.3582\n",
            "Epoch 139/2000\n",
            "24/24 [==============================] - 0s 3ms/step - loss: 425.0706 - val_loss: 508.9695\n",
            "Epoch 140/2000\n",
            "24/24 [==============================] - 0s 3ms/step - loss: 407.1440 - val_loss: 505.3460\n",
            "Epoch 141/2000\n",
            "24/24 [==============================] - 0s 2ms/step - loss: 430.7389 - val_loss: 579.2877\n",
            "Epoch 142/2000\n",
            "24/24 [==============================] - 0s 2ms/step - loss: 423.2913 - val_loss: 503.0390\n",
            "Epoch 143/2000\n",
            "24/24 [==============================] - 0s 3ms/step - loss: 413.8134 - val_loss: 495.7397\n",
            "Epoch 144/2000\n",
            "24/24 [==============================] - 0s 2ms/step - loss: 427.3413 - val_loss: 542.8028\n",
            "Epoch 145/2000\n",
            "24/24 [==============================] - 0s 3ms/step - loss: 455.7494 - val_loss: 515.8977\n",
            "Epoch 146/2000\n",
            "24/24 [==============================] - 0s 3ms/step - loss: 407.3704 - val_loss: 514.2019\n",
            "Epoch 147/2000\n",
            "24/24 [==============================] - 0s 2ms/step - loss: 428.6042 - val_loss: 609.9603\n",
            "Epoch 148/2000\n",
            "24/24 [==============================] - 0s 2ms/step - loss: 402.4355 - val_loss: 533.3250\n",
            "Epoch 149/2000\n",
            "24/24 [==============================] - 0s 2ms/step - loss: 401.6771 - val_loss: 507.6094\n",
            "Epoch 150/2000\n",
            "24/24 [==============================] - 0s 2ms/step - loss: 464.7940 - val_loss: 495.6051\n",
            "Epoch 151/2000\n",
            "24/24 [==============================] - 0s 2ms/step - loss: 428.5227 - val_loss: 494.9594\n",
            "Epoch 152/2000\n",
            "24/24 [==============================] - 0s 2ms/step - loss: 417.2391 - val_loss: 545.2401\n",
            "Epoch 153/2000\n",
            "24/24 [==============================] - 0s 2ms/step - loss: 415.1290 - val_loss: 496.8719\n",
            "Epoch 154/2000\n",
            "24/24 [==============================] - 0s 2ms/step - loss: 427.8852 - val_loss: 584.6377\n",
            "Epoch 155/2000\n",
            "24/24 [==============================] - 0s 2ms/step - loss: 395.1289 - val_loss: 506.1348\n",
            "Epoch 156/2000\n",
            "24/24 [==============================] - 0s 2ms/step - loss: 398.0535 - val_loss: 498.3477\n",
            "Epoch 157/2000\n",
            "24/24 [==============================] - 0s 2ms/step - loss: 502.1842 - val_loss: 656.6180\n",
            "Epoch 158/2000\n",
            "24/24 [==============================] - 0s 2ms/step - loss: 446.1913 - val_loss: 702.2217\n",
            "Epoch 159/2000\n",
            "24/24 [==============================] - 0s 2ms/step - loss: 467.7757 - val_loss: 522.3978\n",
            "Epoch 160/2000\n",
            "24/24 [==============================] - 0s 2ms/step - loss: 409.8156 - val_loss: 534.0695\n",
            "Epoch 161/2000\n",
            "24/24 [==============================] - 0s 2ms/step - loss: 444.0346 - val_loss: 487.4887\n",
            "Epoch 162/2000\n",
            "24/24 [==============================] - 0s 2ms/step - loss: 414.4898 - val_loss: 531.7125\n",
            "Epoch 163/2000\n",
            "24/24 [==============================] - 0s 2ms/step - loss: 417.7316 - val_loss: 479.3002\n",
            "Epoch 164/2000\n",
            "24/24 [==============================] - 0s 2ms/step - loss: 388.4833 - val_loss: 538.0182\n",
            "Epoch 165/2000\n",
            "24/24 [==============================] - 0s 2ms/step - loss: 545.3912 - val_loss: 485.3759\n",
            "Epoch 166/2000\n",
            "24/24 [==============================] - 0s 2ms/step - loss: 463.3405 - val_loss: 539.1068\n",
            "Epoch 167/2000\n",
            "24/24 [==============================] - 0s 2ms/step - loss: 456.2252 - val_loss: 524.8193\n",
            "Epoch 168/2000\n",
            "24/24 [==============================] - 0s 2ms/step - loss: 397.6944 - val_loss: 491.5273\n",
            "Epoch 169/2000\n",
            "24/24 [==============================] - 0s 2ms/step - loss: 407.9250 - val_loss: 503.0512\n",
            "Epoch 170/2000\n",
            "24/24 [==============================] - 0s 2ms/step - loss: 428.5582 - val_loss: 595.8330\n",
            "Epoch 171/2000\n",
            "24/24 [==============================] - 0s 2ms/step - loss: 424.2249 - val_loss: 479.1361\n",
            "Epoch 172/2000\n",
            "24/24 [==============================] - 0s 3ms/step - loss: 405.9547 - val_loss: 510.4279\n",
            "Epoch 173/2000\n",
            "24/24 [==============================] - 0s 2ms/step - loss: 409.0106 - val_loss: 480.6881\n",
            "Epoch 174/2000\n",
            "24/24 [==============================] - 0s 2ms/step - loss: 472.2873 - val_loss: 583.9898\n",
            "Epoch 175/2000\n",
            "24/24 [==============================] - 0s 3ms/step - loss: 438.4993 - val_loss: 517.7756\n",
            "Epoch 176/2000\n",
            "24/24 [==============================] - 0s 3ms/step - loss: 408.9567 - val_loss: 477.5588\n",
            "Epoch 177/2000\n",
            "24/24 [==============================] - 0s 2ms/step - loss: 410.7870 - val_loss: 488.2620\n",
            "Epoch 178/2000\n",
            "24/24 [==============================] - 0s 2ms/step - loss: 391.0504 - val_loss: 479.8831\n",
            "Epoch 179/2000\n",
            "24/24 [==============================] - 0s 2ms/step - loss: 445.2280 - val_loss: 477.4152\n",
            "Epoch 180/2000\n",
            "24/24 [==============================] - 0s 2ms/step - loss: 422.9264 - val_loss: 469.2939\n",
            "Epoch 181/2000\n",
            "24/24 [==============================] - 0s 2ms/step - loss: 407.4675 - val_loss: 473.4872\n",
            "Epoch 182/2000\n",
            "24/24 [==============================] - 0s 2ms/step - loss: 403.1139 - val_loss: 492.5092\n",
            "Epoch 183/2000\n",
            "24/24 [==============================] - 0s 2ms/step - loss: 432.0711 - val_loss: 765.2023\n",
            "Epoch 184/2000\n",
            "24/24 [==============================] - 0s 2ms/step - loss: 463.6433 - val_loss: 473.3606\n",
            "Epoch 185/2000\n",
            "24/24 [==============================] - 0s 2ms/step - loss: 384.4018 - val_loss: 546.1204\n",
            "Epoch 186/2000\n",
            "24/24 [==============================] - 0s 3ms/step - loss: 391.9453 - val_loss: 485.0760\n",
            "Epoch 187/2000\n",
            "24/24 [==============================] - 0s 2ms/step - loss: 402.4753 - val_loss: 475.8343\n",
            "Epoch 188/2000\n",
            "24/24 [==============================] - 0s 2ms/step - loss: 408.1676 - val_loss: 471.7130\n",
            "Epoch 189/2000\n",
            "24/24 [==============================] - 0s 2ms/step - loss: 396.2795 - val_loss: 531.7975\n",
            "Epoch 190/2000\n",
            "24/24 [==============================] - 0s 2ms/step - loss: 387.6016 - val_loss: 561.3836\n",
            "Epoch 191/2000\n",
            "24/24 [==============================] - 0s 2ms/step - loss: 402.6522 - val_loss: 490.1645\n",
            "Epoch 192/2000\n",
            "24/24 [==============================] - 0s 2ms/step - loss: 386.6501 - val_loss: 487.1591\n",
            "Epoch 193/2000\n",
            "24/24 [==============================] - 0s 2ms/step - loss: 385.5165 - val_loss: 489.9001\n",
            "Epoch 194/2000\n",
            "24/24 [==============================] - 0s 2ms/step - loss: 408.2596 - val_loss: 496.2353\n",
            "Epoch 195/2000\n",
            "24/24 [==============================] - 0s 2ms/step - loss: 389.4102 - val_loss: 486.4160\n",
            "Epoch 196/2000\n",
            "24/24 [==============================] - 0s 2ms/step - loss: 383.4950 - val_loss: 516.4044\n",
            "Epoch 197/2000\n",
            "24/24 [==============================] - 0s 3ms/step - loss: 390.1756 - val_loss: 486.7050\n",
            "Epoch 198/2000\n",
            "24/24 [==============================] - 0s 2ms/step - loss: 385.4933 - val_loss: 491.2097\n",
            "Epoch 199/2000\n",
            "24/24 [==============================] - 0s 3ms/step - loss: 379.9338 - val_loss: 483.4254\n",
            "Epoch 200/2000\n",
            "24/24 [==============================] - 0s 2ms/step - loss: 383.3908 - val_loss: 491.5246\n",
            "Epoch 201/2000\n",
            "24/24 [==============================] - 0s 2ms/step - loss: 399.5159 - val_loss: 522.3345\n",
            "Epoch 202/2000\n",
            "24/24 [==============================] - 0s 3ms/step - loss: 400.1756 - val_loss: 498.9352\n",
            "Epoch 203/2000\n",
            "24/24 [==============================] - 0s 3ms/step - loss: 386.4119 - val_loss: 500.4544\n",
            "Epoch 204/2000\n",
            "24/24 [==============================] - 0s 2ms/step - loss: 399.3994 - val_loss: 489.6696\n",
            "Epoch 205/2000\n",
            "24/24 [==============================] - 0s 2ms/step - loss: 411.2487 - val_loss: 705.9997\n",
            "Epoch 206/2000\n",
            "24/24 [==============================] - 0s 2ms/step - loss: 445.5426 - val_loss: 569.6081\n",
            "Epoch 207/2000\n",
            "24/24 [==============================] - 0s 2ms/step - loss: 396.8554 - val_loss: 492.1371\n",
            "Epoch 208/2000\n",
            "24/24 [==============================] - 0s 2ms/step - loss: 419.5056 - val_loss: 623.2552\n",
            "Epoch 209/2000\n",
            "24/24 [==============================] - 0s 2ms/step - loss: 427.8985 - val_loss: 509.6964\n",
            "Epoch 210/2000\n",
            "24/24 [==============================] - 0s 2ms/step - loss: 396.9444 - val_loss: 523.9310\n",
            "Epoch 211/2000\n",
            "24/24 [==============================] - 0s 2ms/step - loss: 412.6801 - val_loss: 498.0328\n",
            "Epoch 212/2000\n",
            "24/24 [==============================] - 0s 2ms/step - loss: 384.6134 - val_loss: 492.1512\n",
            "Epoch 213/2000\n",
            "24/24 [==============================] - 0s 3ms/step - loss: 394.6726 - val_loss: 552.7345\n",
            "Epoch 214/2000\n",
            "24/24 [==============================] - 0s 2ms/step - loss: 408.1904 - val_loss: 481.6433\n",
            "Epoch 215/2000\n",
            "24/24 [==============================] - 0s 2ms/step - loss: 387.2583 - val_loss: 483.6419\n",
            "Epoch 216/2000\n",
            "24/24 [==============================] - 0s 2ms/step - loss: 400.3286 - val_loss: 470.5806\n",
            "Epoch 217/2000\n",
            "24/24 [==============================] - 0s 2ms/step - loss: 398.0651 - val_loss: 481.7343\n",
            "Epoch 218/2000\n",
            "24/24 [==============================] - 0s 3ms/step - loss: 393.7025 - val_loss: 485.5582\n",
            "Epoch 219/2000\n",
            "24/24 [==============================] - 0s 3ms/step - loss: 437.0426 - val_loss: 524.7969\n",
            "Epoch 220/2000\n",
            "24/24 [==============================] - 0s 11ms/step - loss: 400.4139 - val_loss: 473.0900\n",
            "Epoch 221/2000\n",
            "24/24 [==============================] - 0s 6ms/step - loss: 386.4588 - val_loss: 507.4014\n",
            "Epoch 222/2000\n",
            "24/24 [==============================] - 0s 6ms/step - loss: 415.0093 - val_loss: 603.1104\n",
            "Epoch 223/2000\n",
            "24/24 [==============================] - 0s 4ms/step - loss: 421.7950 - val_loss: 464.5989\n",
            "Epoch 224/2000\n",
            "24/24 [==============================] - 0s 2ms/step - loss: 409.9557 - val_loss: 475.7126\n",
            "Epoch 225/2000\n",
            "24/24 [==============================] - 0s 3ms/step - loss: 367.9705 - val_loss: 535.0445\n",
            "Epoch 226/2000\n",
            "24/24 [==============================] - 0s 2ms/step - loss: 391.2460 - val_loss: 478.3531\n",
            "Epoch 227/2000\n",
            "24/24 [==============================] - 0s 2ms/step - loss: 426.2079 - val_loss: 538.1517\n",
            "Epoch 228/2000\n",
            "24/24 [==============================] - 0s 2ms/step - loss: 430.9882 - val_loss: 510.3986\n",
            "Epoch 229/2000\n",
            "24/24 [==============================] - 0s 3ms/step - loss: 401.9054 - val_loss: 497.0975\n",
            "Epoch 230/2000\n",
            "24/24 [==============================] - 0s 2ms/step - loss: 398.3699 - val_loss: 508.0840\n",
            "Epoch 231/2000\n",
            "24/24 [==============================] - 0s 3ms/step - loss: 401.9610 - val_loss: 562.3313\n",
            "Epoch 232/2000\n",
            "24/24 [==============================] - 0s 10ms/step - loss: 455.3810 - val_loss: 471.4106\n",
            "Epoch 233/2000\n",
            "24/24 [==============================] - 0s 6ms/step - loss: 387.0249 - val_loss: 482.6273\n",
            "Epoch 234/2000\n",
            "24/24 [==============================] - 0s 6ms/step - loss: 382.9898 - val_loss: 486.7159\n",
            "Epoch 235/2000\n",
            "24/24 [==============================] - 0s 3ms/step - loss: 380.9807 - val_loss: 504.6561\n",
            "Epoch 236/2000\n",
            "24/24 [==============================] - 0s 2ms/step - loss: 418.1531 - val_loss: 486.8176\n",
            "Epoch 237/2000\n",
            "24/24 [==============================] - 0s 2ms/step - loss: 417.7650 - val_loss: 494.2363\n",
            "Epoch 238/2000\n",
            "24/24 [==============================] - 0s 2ms/step - loss: 435.3732 - val_loss: 482.6067\n",
            "Epoch 239/2000\n",
            "24/24 [==============================] - 0s 2ms/step - loss: 370.0434 - val_loss: 467.6557\n",
            "Epoch 240/2000\n",
            "24/24 [==============================] - 0s 2ms/step - loss: 379.6902 - val_loss: 490.1130\n",
            "Epoch 241/2000\n",
            "24/24 [==============================] - 0s 2ms/step - loss: 359.9206 - val_loss: 527.2595\n",
            "Epoch 242/2000\n",
            "24/24 [==============================] - 0s 2ms/step - loss: 388.0152 - val_loss: 462.6589\n",
            "Epoch 243/2000\n",
            "24/24 [==============================] - 0s 2ms/step - loss: 386.2999 - val_loss: 492.6870\n",
            "Epoch 244/2000\n",
            "24/24 [==============================] - 0s 5ms/step - loss: 363.0904 - val_loss: 524.4046\n",
            "Epoch 245/2000\n",
            "24/24 [==============================] - 0s 6ms/step - loss: 403.1933 - val_loss: 760.9371\n",
            "Epoch 246/2000\n",
            "24/24 [==============================] - 0s 6ms/step - loss: 412.4652 - val_loss: 502.8846\n",
            "Epoch 247/2000\n",
            "24/24 [==============================] - 0s 8ms/step - loss: 384.1287 - val_loss: 473.3041\n",
            "Epoch 248/2000\n",
            "24/24 [==============================] - 0s 3ms/step - loss: 385.7674 - val_loss: 471.8539\n",
            "Epoch 249/2000\n",
            "24/24 [==============================] - 0s 2ms/step - loss: 422.2015 - val_loss: 503.7503\n",
            "Epoch 250/2000\n",
            "24/24 [==============================] - 0s 2ms/step - loss: 401.9951 - val_loss: 532.8351\n",
            "Epoch 251/2000\n",
            "24/24 [==============================] - 0s 2ms/step - loss: 387.6999 - val_loss: 486.9384\n",
            "Epoch 252/2000\n",
            "24/24 [==============================] - 0s 2ms/step - loss: 373.9422 - val_loss: 470.9901\n",
            "Epoch 253/2000\n",
            "24/24 [==============================] - 0s 2ms/step - loss: 367.7808 - val_loss: 478.1865\n",
            "Epoch 254/2000\n",
            "24/24 [==============================] - 0s 2ms/step - loss: 388.8041 - val_loss: 481.6884\n",
            "Epoch 255/2000\n",
            "24/24 [==============================] - 0s 3ms/step - loss: 479.0989 - val_loss: 518.2572\n",
            "Epoch 256/2000\n",
            "24/24 [==============================] - 0s 3ms/step - loss: 416.5760 - val_loss: 523.0676\n",
            "Epoch 257/2000\n",
            "24/24 [==============================] - 0s 3ms/step - loss: 407.7419 - val_loss: 472.1598\n",
            "Epoch 258/2000\n",
            "24/24 [==============================] - 0s 2ms/step - loss: 480.1242 - val_loss: 529.2806\n",
            "Epoch 259/2000\n",
            "24/24 [==============================] - 0s 3ms/step - loss: 367.6645 - val_loss: 484.5716\n",
            "Epoch 260/2000\n",
            "24/24 [==============================] - 0s 2ms/step - loss: 410.2700 - val_loss: 492.1168\n",
            "Epoch 261/2000\n",
            "24/24 [==============================] - 0s 2ms/step - loss: 403.7673 - val_loss: 649.4339\n",
            "Epoch 262/2000\n",
            "24/24 [==============================] - 0s 2ms/step - loss: 414.0016 - val_loss: 463.9251\n",
            "Epoch 263/2000\n",
            "24/24 [==============================] - 0s 2ms/step - loss: 405.7344 - val_loss: 473.4202\n",
            "Epoch 264/2000\n",
            "24/24 [==============================] - 0s 2ms/step - loss: 379.6243 - val_loss: 554.1861\n",
            "Epoch 265/2000\n",
            "24/24 [==============================] - 0s 2ms/step - loss: 386.3445 - val_loss: 483.3777\n",
            "Epoch 266/2000\n",
            "24/24 [==============================] - 0s 2ms/step - loss: 391.6862 - val_loss: 563.9000\n",
            "Epoch 267/2000\n",
            "24/24 [==============================] - 0s 2ms/step - loss: 380.9305 - val_loss: 489.2621\n",
            "Epoch 268/2000\n",
            "24/24 [==============================] - 0s 2ms/step - loss: 360.9545 - val_loss: 471.2521\n",
            "Epoch 269/2000\n",
            "24/24 [==============================] - 0s 2ms/step - loss: 354.9941 - val_loss: 469.1935\n",
            "Epoch 270/2000\n",
            "24/24 [==============================] - 0s 2ms/step - loss: 364.6394 - val_loss: 458.9622\n",
            "Epoch 271/2000\n",
            "24/24 [==============================] - 0s 2ms/step - loss: 375.5831 - val_loss: 469.2976\n",
            "Epoch 272/2000\n",
            "24/24 [==============================] - 0s 2ms/step - loss: 357.4606 - val_loss: 582.0930\n",
            "Epoch 273/2000\n",
            "24/24 [==============================] - 0s 2ms/step - loss: 383.5119 - val_loss: 480.9637\n",
            "Epoch 274/2000\n",
            "24/24 [==============================] - 0s 2ms/step - loss: 385.4831 - val_loss: 475.1537\n",
            "Epoch 275/2000\n",
            "24/24 [==============================] - 0s 3ms/step - loss: 367.4876 - val_loss: 466.6539\n",
            "Epoch 276/2000\n",
            "24/24 [==============================] - 0s 2ms/step - loss: 393.5448 - val_loss: 478.8758\n",
            "Epoch 277/2000\n",
            "24/24 [==============================] - 0s 2ms/step - loss: 404.1311 - val_loss: 579.6714\n",
            "Epoch 278/2000\n",
            "24/24 [==============================] - 0s 2ms/step - loss: 360.2247 - val_loss: 518.7644\n",
            "Epoch 279/2000\n",
            "24/24 [==============================] - 0s 2ms/step - loss: 369.1043 - val_loss: 467.4262\n",
            "Epoch 280/2000\n",
            "24/24 [==============================] - 0s 2ms/step - loss: 352.1501 - val_loss: 516.5433\n",
            "Epoch 281/2000\n",
            "24/24 [==============================] - 0s 2ms/step - loss: 382.1403 - val_loss: 482.5198\n",
            "Epoch 282/2000\n",
            "24/24 [==============================] - 0s 2ms/step - loss: 376.9897 - val_loss: 481.6226\n",
            "Epoch 283/2000\n",
            "24/24 [==============================] - 0s 2ms/step - loss: 373.3002 - val_loss: 454.9285\n",
            "Epoch 284/2000\n",
            "24/24 [==============================] - 0s 2ms/step - loss: 372.5885 - val_loss: 461.2394\n",
            "Epoch 285/2000\n",
            "24/24 [==============================] - 0s 2ms/step - loss: 364.5919 - val_loss: 547.1103\n",
            "Epoch 286/2000\n",
            "24/24 [==============================] - 0s 2ms/step - loss: 371.4125 - val_loss: 472.1390\n",
            "Epoch 287/2000\n",
            "24/24 [==============================] - 0s 2ms/step - loss: 397.5153 - val_loss: 473.4515\n",
            "Epoch 288/2000\n",
            "24/24 [==============================] - 0s 2ms/step - loss: 379.9817 - val_loss: 512.5775\n",
            "Epoch 289/2000\n",
            "24/24 [==============================] - 0s 2ms/step - loss: 370.4854 - val_loss: 465.0889\n",
            "Epoch 290/2000\n",
            "24/24 [==============================] - 0s 3ms/step - loss: 369.3084 - val_loss: 525.8701\n",
            "Epoch 291/2000\n",
            "24/24 [==============================] - 0s 2ms/step - loss: 373.6239 - val_loss: 513.7509\n",
            "Epoch 292/2000\n",
            "24/24 [==============================] - 0s 2ms/step - loss: 562.2212 - val_loss: 479.8278\n",
            "Epoch 293/2000\n",
            "24/24 [==============================] - 0s 2ms/step - loss: 436.3507 - val_loss: 481.2871\n",
            "Epoch 294/2000\n",
            "24/24 [==============================] - 0s 2ms/step - loss: 415.7137 - val_loss: 516.2101\n",
            "Epoch 295/2000\n",
            "24/24 [==============================] - 0s 3ms/step - loss: 353.3910 - val_loss: 467.6383\n",
            "Epoch 296/2000\n",
            "24/24 [==============================] - 0s 2ms/step - loss: 348.8132 - val_loss: 511.2379\n",
            "Epoch 297/2000\n",
            "24/24 [==============================] - 0s 3ms/step - loss: 368.8588 - val_loss: 482.4018\n",
            "Epoch 298/2000\n",
            "24/24 [==============================] - 0s 2ms/step - loss: 374.0329 - val_loss: 489.0871\n",
            "Epoch 299/2000\n",
            "24/24 [==============================] - 0s 3ms/step - loss: 385.5076 - val_loss: 589.0835\n",
            "Epoch 300/2000\n",
            "24/24 [==============================] - 0s 3ms/step - loss: 362.1311 - val_loss: 453.6017\n",
            "Epoch 301/2000\n",
            "24/24 [==============================] - 0s 3ms/step - loss: 366.4437 - val_loss: 483.7609\n",
            "Epoch 302/2000\n",
            "24/24 [==============================] - 0s 2ms/step - loss: 368.7088 - val_loss: 485.2374\n",
            "Epoch 303/2000\n",
            "24/24 [==============================] - 0s 2ms/step - loss: 364.4835 - val_loss: 463.9627\n",
            "Epoch 304/2000\n",
            "24/24 [==============================] - 0s 2ms/step - loss: 368.0229 - val_loss: 545.9320\n",
            "Epoch 305/2000\n",
            "24/24 [==============================] - 0s 2ms/step - loss: 427.1482 - val_loss: 531.1437\n",
            "Epoch 306/2000\n",
            "24/24 [==============================] - 0s 2ms/step - loss: 370.2581 - val_loss: 472.9297\n",
            "Epoch 307/2000\n",
            "24/24 [==============================] - 0s 3ms/step - loss: 367.7306 - val_loss: 540.6494\n",
            "Epoch 308/2000\n",
            "24/24 [==============================] - 0s 2ms/step - loss: 363.5450 - val_loss: 463.7269\n",
            "Epoch 309/2000\n",
            "24/24 [==============================] - 0s 3ms/step - loss: 355.5893 - val_loss: 449.3140\n",
            "Epoch 310/2000\n",
            "24/24 [==============================] - 0s 3ms/step - loss: 366.9213 - val_loss: 500.7234\n",
            "Epoch 311/2000\n",
            "24/24 [==============================] - 0s 2ms/step - loss: 353.9302 - val_loss: 547.6307\n",
            "Epoch 312/2000\n",
            "24/24 [==============================] - 0s 3ms/step - loss: 343.9339 - val_loss: 488.4944\n",
            "Epoch 313/2000\n",
            "24/24 [==============================] - 0s 2ms/step - loss: 365.0544 - val_loss: 538.9200\n",
            "Epoch 314/2000\n",
            "24/24 [==============================] - 0s 3ms/step - loss: 366.8425 - val_loss: 538.0236\n",
            "Epoch 315/2000\n",
            "24/24 [==============================] - 0s 3ms/step - loss: 371.3267 - val_loss: 472.3917\n",
            "Epoch 316/2000\n",
            "24/24 [==============================] - 0s 2ms/step - loss: 354.3100 - val_loss: 514.2150\n",
            "Epoch 317/2000\n",
            "24/24 [==============================] - 0s 2ms/step - loss: 345.7892 - val_loss: 626.1940\n",
            "Epoch 318/2000\n",
            "24/24 [==============================] - 0s 2ms/step - loss: 391.6188 - val_loss: 467.6449\n",
            "Epoch 319/2000\n",
            "24/24 [==============================] - 0s 2ms/step - loss: 342.7918 - val_loss: 502.0543\n",
            "Epoch 320/2000\n",
            "24/24 [==============================] - 0s 2ms/step - loss: 352.5264 - val_loss: 476.4166\n",
            "Epoch 321/2000\n",
            "24/24 [==============================] - 0s 2ms/step - loss: 344.0582 - val_loss: 489.9034\n",
            "Epoch 322/2000\n",
            "24/24 [==============================] - 0s 2ms/step - loss: 354.5804 - val_loss: 511.5908\n",
            "Epoch 323/2000\n",
            "24/24 [==============================] - 0s 2ms/step - loss: 364.6302 - val_loss: 475.0295\n",
            "Epoch 324/2000\n",
            "24/24 [==============================] - 0s 3ms/step - loss: 340.3179 - val_loss: 496.0056\n",
            "Epoch 325/2000\n",
            "24/24 [==============================] - 0s 3ms/step - loss: 361.9028 - val_loss: 485.0645\n",
            "Epoch 326/2000\n",
            "24/24 [==============================] - 0s 3ms/step - loss: 369.3779 - val_loss: 582.9414\n",
            "Epoch 327/2000\n",
            "24/24 [==============================] - 0s 2ms/step - loss: 389.3802 - val_loss: 483.9576\n",
            "Epoch 328/2000\n",
            "24/24 [==============================] - 0s 2ms/step - loss: 363.0372 - val_loss: 518.6465\n",
            "Epoch 329/2000\n",
            "24/24 [==============================] - 0s 2ms/step - loss: 344.5604 - val_loss: 475.7627\n",
            "Epoch 330/2000\n",
            "24/24 [==============================] - 0s 3ms/step - loss: 355.1322 - val_loss: 515.5927\n",
            "Epoch 331/2000\n",
            "24/24 [==============================] - 0s 3ms/step - loss: 339.5519 - val_loss: 520.9819\n",
            "Epoch 332/2000\n",
            "24/24 [==============================] - 0s 2ms/step - loss: 339.3067 - val_loss: 457.1537\n",
            "Epoch 333/2000\n",
            "24/24 [==============================] - 0s 2ms/step - loss: 349.3695 - val_loss: 534.2549\n",
            "Epoch 334/2000\n",
            "24/24 [==============================] - 0s 2ms/step - loss: 375.4964 - val_loss: 464.8966\n",
            "Epoch 335/2000\n",
            "24/24 [==============================] - 0s 2ms/step - loss: 342.9569 - val_loss: 467.5137\n",
            "Epoch 336/2000\n",
            "24/24 [==============================] - 0s 2ms/step - loss: 385.7617 - val_loss: 494.2576\n",
            "Epoch 337/2000\n",
            "24/24 [==============================] - 0s 2ms/step - loss: 364.0479 - val_loss: 500.6503\n",
            "Epoch 338/2000\n",
            "24/24 [==============================] - 0s 2ms/step - loss: 388.5529 - val_loss: 459.6269\n",
            "Epoch 339/2000\n",
            "24/24 [==============================] - 0s 2ms/step - loss: 359.3911 - val_loss: 446.2137\n",
            "Epoch 340/2000\n",
            "24/24 [==============================] - 0s 3ms/step - loss: 358.8578 - val_loss: 478.4615\n",
            "Epoch 341/2000\n",
            "24/24 [==============================] - 0s 2ms/step - loss: 346.9033 - val_loss: 470.5580\n",
            "Epoch 342/2000\n",
            "24/24 [==============================] - 0s 2ms/step - loss: 375.6053 - val_loss: 474.8139\n",
            "Epoch 343/2000\n",
            "24/24 [==============================] - 0s 3ms/step - loss: 339.0924 - val_loss: 715.9130\n",
            "Epoch 344/2000\n",
            "24/24 [==============================] - 0s 3ms/step - loss: 370.2198 - val_loss: 455.2948\n",
            "Epoch 345/2000\n",
            "24/24 [==============================] - 0s 2ms/step - loss: 339.1878 - val_loss: 453.2824\n",
            "Epoch 346/2000\n",
            "24/24 [==============================] - 0s 2ms/step - loss: 346.6649 - val_loss: 515.5438\n",
            "Epoch 347/2000\n",
            "24/24 [==============================] - 0s 2ms/step - loss: 382.7095 - val_loss: 544.9354\n",
            "Epoch 348/2000\n",
            "24/24 [==============================] - 0s 2ms/step - loss: 351.4000 - val_loss: 468.9595\n",
            "Epoch 349/2000\n",
            "24/24 [==============================] - 0s 3ms/step - loss: 361.9541 - val_loss: 486.1037\n",
            "Epoch 350/2000\n",
            "24/24 [==============================] - 0s 2ms/step - loss: 359.2599 - val_loss: 459.2630\n",
            "Epoch 351/2000\n",
            "24/24 [==============================] - 0s 2ms/step - loss: 357.8259 - val_loss: 528.0154\n",
            "Epoch 352/2000\n",
            "24/24 [==============================] - 0s 2ms/step - loss: 423.2319 - val_loss: 477.1767\n",
            "Epoch 353/2000\n",
            "24/24 [==============================] - 0s 2ms/step - loss: 367.8296 - val_loss: 495.9221\n",
            "Epoch 354/2000\n",
            "24/24 [==============================] - 0s 2ms/step - loss: 373.2766 - val_loss: 504.5830\n",
            "Epoch 355/2000\n",
            "24/24 [==============================] - 0s 3ms/step - loss: 357.5204 - val_loss: 527.9619\n",
            "Epoch 356/2000\n",
            "24/24 [==============================] - 0s 3ms/step - loss: 353.0400 - val_loss: 493.6544\n",
            "Epoch 357/2000\n",
            "24/24 [==============================] - 0s 3ms/step - loss: 319.4464 - val_loss: 513.8758\n",
            "Epoch 358/2000\n",
            "24/24 [==============================] - 0s 2ms/step - loss: 383.0745 - val_loss: 633.7666\n",
            "Epoch 359/2000\n",
            "24/24 [==============================] - 0s 2ms/step - loss: 364.5229 - val_loss: 569.5562\n",
            "Epoch 360/2000\n",
            "24/24 [==============================] - 0s 2ms/step - loss: 339.3821 - val_loss: 469.9107\n",
            "Epoch 361/2000\n",
            "24/24 [==============================] - 0s 2ms/step - loss: 319.2791 - val_loss: 487.7577\n",
            "Epoch 362/2000\n",
            "24/24 [==============================] - 0s 3ms/step - loss: 371.3701 - val_loss: 532.7048\n",
            "Epoch 363/2000\n",
            "24/24 [==============================] - 0s 3ms/step - loss: 369.0646 - val_loss: 517.6674\n",
            "Epoch 364/2000\n",
            "24/24 [==============================] - 0s 2ms/step - loss: 339.3651 - val_loss: 473.8019\n",
            "Epoch 365/2000\n",
            "24/24 [==============================] - 0s 2ms/step - loss: 361.9170 - val_loss: 480.5804\n",
            "Epoch 366/2000\n",
            "24/24 [==============================] - 0s 2ms/step - loss: 355.0620 - val_loss: 523.1251\n",
            "Epoch 367/2000\n",
            "24/24 [==============================] - 0s 2ms/step - loss: 372.8016 - val_loss: 491.3023\n",
            "Epoch 368/2000\n",
            "24/24 [==============================] - 0s 2ms/step - loss: 332.4401 - val_loss: 529.9496\n",
            "Epoch 369/2000\n",
            "24/24 [==============================] - 0s 2ms/step - loss: 340.6089 - val_loss: 463.2897\n",
            "Epoch 370/2000\n",
            "24/24 [==============================] - 0s 2ms/step - loss: 319.1826 - val_loss: 533.4803\n",
            "Epoch 371/2000\n",
            "24/24 [==============================] - 0s 2ms/step - loss: 337.3534 - val_loss: 459.5666\n",
            "Epoch 372/2000\n",
            "24/24 [==============================] - 0s 3ms/step - loss: 323.1371 - val_loss: 471.4158\n",
            "Epoch 373/2000\n",
            "24/24 [==============================] - 0s 3ms/step - loss: 325.8813 - val_loss: 471.3092\n",
            "Epoch 374/2000\n",
            "24/24 [==============================] - 0s 3ms/step - loss: 354.3518 - val_loss: 499.6688\n",
            "Epoch 375/2000\n",
            "24/24 [==============================] - 0s 2ms/step - loss: 339.5027 - val_loss: 427.2958\n",
            "Epoch 376/2000\n",
            "24/24 [==============================] - 0s 3ms/step - loss: 326.7790 - val_loss: 513.1339\n",
            "Epoch 377/2000\n",
            "24/24 [==============================] - 0s 2ms/step - loss: 320.3831 - val_loss: 455.7650\n",
            "Epoch 378/2000\n",
            "24/24 [==============================] - 0s 2ms/step - loss: 373.0688 - val_loss: 432.4688\n",
            "Epoch 379/2000\n",
            "24/24 [==============================] - 0s 2ms/step - loss: 385.9541 - val_loss: 466.1210\n",
            "Epoch 380/2000\n",
            "24/24 [==============================] - 0s 2ms/step - loss: 389.1806 - val_loss: 618.8240\n",
            "Epoch 381/2000\n",
            "24/24 [==============================] - 0s 2ms/step - loss: 373.9293 - val_loss: 459.9959\n",
            "Epoch 382/2000\n",
            "24/24 [==============================] - 0s 2ms/step - loss: 328.2842 - val_loss: 560.3340\n",
            "Epoch 383/2000\n",
            "24/24 [==============================] - 0s 3ms/step - loss: 351.4425 - val_loss: 493.2141\n",
            "Epoch 384/2000\n",
            "24/24 [==============================] - 0s 2ms/step - loss: 366.0945 - val_loss: 486.3967\n",
            "Epoch 385/2000\n",
            "24/24 [==============================] - 0s 3ms/step - loss: 367.7123 - val_loss: 514.7884\n",
            "Epoch 386/2000\n",
            "24/24 [==============================] - 0s 2ms/step - loss: 333.5219 - val_loss: 440.5020\n",
            "Epoch 387/2000\n",
            "24/24 [==============================] - 0s 2ms/step - loss: 314.2734 - val_loss: 616.8954\n",
            "Epoch 388/2000\n",
            "24/24 [==============================] - 0s 3ms/step - loss: 336.0794 - val_loss: 446.6336\n",
            "Epoch 389/2000\n",
            "24/24 [==============================] - 0s 2ms/step - loss: 322.8857 - val_loss: 508.5469\n",
            "Epoch 390/2000\n",
            "24/24 [==============================] - 0s 2ms/step - loss: 321.2664 - val_loss: 465.8015\n",
            "Epoch 391/2000\n",
            "24/24 [==============================] - 0s 2ms/step - loss: 327.2103 - val_loss: 608.5177\n",
            "Epoch 392/2000\n",
            "24/24 [==============================] - 0s 2ms/step - loss: 345.8318 - val_loss: 470.2194\n",
            "Epoch 393/2000\n",
            "24/24 [==============================] - 0s 2ms/step - loss: 336.2699 - val_loss: 479.6082\n",
            "Epoch 394/2000\n",
            "24/24 [==============================] - 0s 2ms/step - loss: 342.7921 - val_loss: 450.4725\n",
            "Epoch 395/2000\n",
            "24/24 [==============================] - 0s 3ms/step - loss: 335.5739 - val_loss: 470.0262\n",
            "Epoch 396/2000\n",
            "24/24 [==============================] - 0s 2ms/step - loss: 325.5920 - val_loss: 489.0780\n",
            "Epoch 397/2000\n",
            "24/24 [==============================] - 0s 2ms/step - loss: 340.7124 - val_loss: 471.0948\n",
            "Epoch 398/2000\n",
            "24/24 [==============================] - 0s 2ms/step - loss: 390.8125 - val_loss: 513.6304\n",
            "Epoch 399/2000\n",
            "24/24 [==============================] - 0s 2ms/step - loss: 333.9063 - val_loss: 443.0930\n",
            "Epoch 400/2000\n",
            "24/24 [==============================] - 0s 2ms/step - loss: 355.7698 - val_loss: 548.6019\n",
            "Epoch 401/2000\n",
            "24/24 [==============================] - 0s 2ms/step - loss: 331.7473 - val_loss: 546.3993\n",
            "Epoch 402/2000\n",
            "24/24 [==============================] - 0s 3ms/step - loss: 344.5887 - val_loss: 483.6861\n",
            "Epoch 403/2000\n",
            "24/24 [==============================] - 0s 3ms/step - loss: 322.3400 - val_loss: 416.7493\n",
            "Epoch 404/2000\n",
            "24/24 [==============================] - 0s 3ms/step - loss: 347.6691 - val_loss: 632.7742\n",
            "Epoch 405/2000\n",
            "24/24 [==============================] - 0s 2ms/step - loss: 364.5413 - val_loss: 519.8604\n",
            "Epoch 406/2000\n",
            "24/24 [==============================] - 0s 2ms/step - loss: 333.6120 - val_loss: 443.7411\n",
            "Epoch 407/2000\n",
            "24/24 [==============================] - 0s 3ms/step - loss: 337.5275 - val_loss: 442.1052\n",
            "Epoch 408/2000\n",
            "24/24 [==============================] - 0s 2ms/step - loss: 322.5378 - val_loss: 449.4192\n",
            "Epoch 409/2000\n",
            "24/24 [==============================] - 0s 3ms/step - loss: 316.1196 - val_loss: 522.1786\n",
            "Epoch 410/2000\n",
            "24/24 [==============================] - 0s 2ms/step - loss: 337.7502 - val_loss: 614.2911\n",
            "Epoch 411/2000\n",
            "24/24 [==============================] - 0s 2ms/step - loss: 359.8815 - val_loss: 488.2875\n",
            "Epoch 412/2000\n",
            "24/24 [==============================] - 0s 2ms/step - loss: 318.7518 - val_loss: 454.8868\n",
            "Epoch 413/2000\n",
            "24/24 [==============================] - 0s 2ms/step - loss: 316.3528 - val_loss: 574.9559\n",
            "Epoch 414/2000\n",
            "24/24 [==============================] - 0s 2ms/step - loss: 395.0410 - val_loss: 455.6931\n",
            "Epoch 415/2000\n",
            "24/24 [==============================] - 0s 2ms/step - loss: 367.7995 - val_loss: 461.6208\n",
            "Epoch 416/2000\n",
            "24/24 [==============================] - 0s 2ms/step - loss: 322.2315 - val_loss: 481.2447\n",
            "Epoch 417/2000\n",
            "24/24 [==============================] - 0s 2ms/step - loss: 333.4467 - val_loss: 472.3638\n",
            "Epoch 418/2000\n",
            "24/24 [==============================] - 0s 3ms/step - loss: 398.1517 - val_loss: 424.3011\n",
            "Epoch 419/2000\n",
            "24/24 [==============================] - 0s 3ms/step - loss: 329.7234 - val_loss: 484.0450\n",
            "Epoch 420/2000\n",
            "24/24 [==============================] - 0s 3ms/step - loss: 299.1450 - val_loss: 579.5737\n",
            "Epoch 421/2000\n",
            "24/24 [==============================] - 0s 2ms/step - loss: 333.0659 - val_loss: 457.2712\n",
            "Epoch 422/2000\n",
            "24/24 [==============================] - 0s 2ms/step - loss: 376.4809 - val_loss: 569.0441\n",
            "Epoch 423/2000\n",
            "24/24 [==============================] - 0s 2ms/step - loss: 400.3510 - val_loss: 433.1965\n",
            "Epoch 424/2000\n",
            "24/24 [==============================] - 0s 2ms/step - loss: 317.2576 - val_loss: 532.1271\n",
            "Epoch 425/2000\n",
            "24/24 [==============================] - 0s 3ms/step - loss: 339.8658 - val_loss: 437.6720\n",
            "Epoch 426/2000\n",
            "24/24 [==============================] - 0s 3ms/step - loss: 325.5021 - val_loss: 429.5539\n",
            "Epoch 427/2000\n",
            "24/24 [==============================] - 0s 2ms/step - loss: 347.3023 - val_loss: 447.6370\n",
            "Epoch 428/2000\n",
            "24/24 [==============================] - 0s 2ms/step - loss: 395.6853 - val_loss: 484.6537\n",
            "Epoch 429/2000\n",
            "24/24 [==============================] - 0s 2ms/step - loss: 325.3005 - val_loss: 449.2910\n",
            "Epoch 430/2000\n",
            "24/24 [==============================] - 0s 3ms/step - loss: 310.8599 - val_loss: 453.4172\n",
            "Epoch 431/2000\n",
            "24/24 [==============================] - 0s 2ms/step - loss: 336.2889 - val_loss: 464.2720\n",
            "Epoch 432/2000\n",
            "24/24 [==============================] - 0s 2ms/step - loss: 320.6198 - val_loss: 422.7314\n",
            "Epoch 433/2000\n",
            "24/24 [==============================] - 0s 3ms/step - loss: 323.1540 - val_loss: 433.6180\n",
            "Epoch 434/2000\n",
            "24/24 [==============================] - 0s 2ms/step - loss: 308.2964 - val_loss: 462.2369\n",
            "Epoch 435/2000\n",
            "24/24 [==============================] - 0s 2ms/step - loss: 304.5650 - val_loss: 438.4726\n",
            "Epoch 436/2000\n",
            "24/24 [==============================] - 0s 2ms/step - loss: 305.5403 - val_loss: 457.4269\n",
            "Epoch 437/2000\n",
            "24/24 [==============================] - 0s 2ms/step - loss: 347.2882 - val_loss: 453.7565\n",
            "Epoch 438/2000\n",
            "24/24 [==============================] - 0s 3ms/step - loss: 301.6246 - val_loss: 430.4957\n",
            "Epoch 439/2000\n",
            "24/24 [==============================] - 0s 2ms/step - loss: 437.7154 - val_loss: 519.3032\n",
            "Epoch 440/2000\n",
            "24/24 [==============================] - 0s 2ms/step - loss: 418.7808 - val_loss: 421.2130\n",
            "Epoch 441/2000\n",
            "24/24 [==============================] - 0s 3ms/step - loss: 365.9033 - val_loss: 439.1921\n",
            "Epoch 442/2000\n",
            "24/24 [==============================] - 0s 2ms/step - loss: 318.6712 - val_loss: 467.2737\n",
            "Epoch 443/2000\n",
            "24/24 [==============================] - 0s 2ms/step - loss: 305.0891 - val_loss: 461.4824\n",
            "Epoch 444/2000\n",
            "24/24 [==============================] - 0s 2ms/step - loss: 332.6451 - val_loss: 465.0586\n",
            "Epoch 445/2000\n",
            "24/24 [==============================] - 0s 2ms/step - loss: 315.3762 - val_loss: 467.9529\n",
            "Epoch 446/2000\n",
            "24/24 [==============================] - 0s 2ms/step - loss: 325.1812 - val_loss: 459.6971\n",
            "Epoch 447/2000\n",
            "24/24 [==============================] - 0s 2ms/step - loss: 359.9174 - val_loss: 621.9837\n",
            "Epoch 448/2000\n",
            "24/24 [==============================] - 0s 2ms/step - loss: 336.7447 - val_loss: 448.8124\n",
            "Epoch 449/2000\n",
            "24/24 [==============================] - 0s 2ms/step - loss: 308.2587 - val_loss: 454.9424\n",
            "Epoch 450/2000\n",
            "24/24 [==============================] - 0s 2ms/step - loss: 340.8761 - val_loss: 437.7647\n",
            "Epoch 451/2000\n",
            "24/24 [==============================] - 0s 2ms/step - loss: 321.5076 - val_loss: 439.2960\n",
            "Epoch 452/2000\n",
            "24/24 [==============================] - 0s 3ms/step - loss: 325.9576 - val_loss: 529.0833\n",
            "Epoch 453/2000\n",
            "24/24 [==============================] - 0s 2ms/step - loss: 308.3165 - val_loss: 432.2426\n",
            "Epoch 454/2000\n",
            "24/24 [==============================] - 0s 3ms/step - loss: 309.4031 - val_loss: 447.8096\n",
            "Epoch 455/2000\n",
            "24/24 [==============================] - 0s 2ms/step - loss: 308.7442 - val_loss: 660.6443\n",
            "Epoch 456/2000\n",
            "24/24 [==============================] - 0s 2ms/step - loss: 362.5968 - val_loss: 441.9504\n",
            "Epoch 457/2000\n",
            "24/24 [==============================] - 0s 2ms/step - loss: 354.2396 - val_loss: 598.4804\n",
            "Epoch 458/2000\n",
            "24/24 [==============================] - 0s 2ms/step - loss: 388.5572 - val_loss: 491.0218\n",
            "Epoch 459/2000\n",
            "24/24 [==============================] - 0s 3ms/step - loss: 342.8591 - val_loss: 470.0299\n",
            "Epoch 460/2000\n",
            "24/24 [==============================] - 0s 2ms/step - loss: 326.9697 - val_loss: 458.9862\n",
            "Epoch 461/2000\n",
            "24/24 [==============================] - 0s 2ms/step - loss: 298.2164 - val_loss: 444.7889\n",
            "Epoch 462/2000\n",
            "24/24 [==============================] - 0s 3ms/step - loss: 343.2425 - val_loss: 455.4316\n",
            "Epoch 463/2000\n",
            "24/24 [==============================] - 0s 2ms/step - loss: 360.0774 - val_loss: 428.5220\n",
            "Epoch 464/2000\n",
            "24/24 [==============================] - 0s 2ms/step - loss: 337.8042 - val_loss: 437.5171\n",
            "Epoch 465/2000\n",
            "24/24 [==============================] - 0s 2ms/step - loss: 328.1987 - val_loss: 459.7379\n",
            "Epoch 466/2000\n",
            "24/24 [==============================] - 0s 2ms/step - loss: 305.0211 - val_loss: 434.9161\n",
            "Epoch 467/2000\n",
            "24/24 [==============================] - 0s 2ms/step - loss: 331.3235 - val_loss: 461.6044\n",
            "Epoch 468/2000\n",
            "24/24 [==============================] - 0s 2ms/step - loss: 323.4563 - val_loss: 494.4471\n",
            "Epoch 469/2000\n",
            "24/24 [==============================] - 0s 3ms/step - loss: 319.4602 - val_loss: 503.2914\n",
            "Epoch 470/2000\n",
            "24/24 [==============================] - 0s 2ms/step - loss: 310.8095 - val_loss: 488.7046\n",
            "Epoch 471/2000\n",
            "24/24 [==============================] - 0s 3ms/step - loss: 310.1932 - val_loss: 457.4807\n",
            "Epoch 472/2000\n",
            "24/24 [==============================] - 0s 3ms/step - loss: 294.9513 - val_loss: 474.1696\n",
            "Epoch 473/2000\n",
            "24/24 [==============================] - 0s 2ms/step - loss: 309.3893 - val_loss: 457.6468\n",
            "Epoch 474/2000\n",
            "24/24 [==============================] - 0s 3ms/step - loss: 298.2285 - val_loss: 452.1522\n",
            "Epoch 475/2000\n",
            "24/24 [==============================] - 0s 2ms/step - loss: 308.0393 - val_loss: 481.6269\n",
            "Epoch 476/2000\n",
            "24/24 [==============================] - 0s 3ms/step - loss: 328.3685 - val_loss: 419.4148\n",
            "Epoch 477/2000\n",
            "24/24 [==============================] - 0s 2ms/step - loss: 319.3287 - val_loss: 478.3480\n",
            "Epoch 478/2000\n",
            "24/24 [==============================] - 0s 2ms/step - loss: 294.5905 - val_loss: 442.2538\n",
            "Epoch 479/2000\n",
            "24/24 [==============================] - 0s 2ms/step - loss: 325.3271 - val_loss: 400.9971\n",
            "Epoch 480/2000\n",
            "24/24 [==============================] - 0s 2ms/step - loss: 313.2721 - val_loss: 550.6395\n",
            "Epoch 481/2000\n",
            "24/24 [==============================] - 0s 3ms/step - loss: 341.1432 - val_loss: 419.7069\n",
            "Epoch 482/2000\n",
            "24/24 [==============================] - 0s 3ms/step - loss: 320.7098 - val_loss: 450.4467\n",
            "Epoch 483/2000\n",
            "24/24 [==============================] - 0s 3ms/step - loss: 354.6229 - val_loss: 504.4262\n",
            "Epoch 484/2000\n",
            "24/24 [==============================] - 0s 3ms/step - loss: 312.4248 - val_loss: 445.0300\n",
            "Epoch 485/2000\n",
            "24/24 [==============================] - 0s 2ms/step - loss: 307.8794 - val_loss: 416.2195\n",
            "Epoch 486/2000\n",
            "24/24 [==============================] - 0s 2ms/step - loss: 298.1264 - val_loss: 443.1645\n",
            "Epoch 487/2000\n",
            "24/24 [==============================] - 0s 2ms/step - loss: 297.2863 - val_loss: 495.0332\n",
            "Epoch 488/2000\n",
            "24/24 [==============================] - 0s 2ms/step - loss: 287.5328 - val_loss: 423.3806\n",
            "Epoch 489/2000\n",
            "24/24 [==============================] - 0s 2ms/step - loss: 312.1075 - val_loss: 512.6622\n",
            "Epoch 490/2000\n",
            "24/24 [==============================] - 0s 2ms/step - loss: 331.9644 - val_loss: 443.5746\n",
            "Epoch 491/2000\n",
            "24/24 [==============================] - 0s 2ms/step - loss: 309.5626 - val_loss: 446.9411\n",
            "Epoch 492/2000\n",
            "24/24 [==============================] - 0s 2ms/step - loss: 330.7736 - val_loss: 420.8848\n",
            "Epoch 493/2000\n",
            "24/24 [==============================] - 0s 2ms/step - loss: 348.3508 - val_loss: 508.3481\n",
            "Epoch 494/2000\n",
            "24/24 [==============================] - 0s 2ms/step - loss: 304.7687 - val_loss: 426.3273\n",
            "Epoch 495/2000\n",
            "24/24 [==============================] - 0s 2ms/step - loss: 286.6784 - val_loss: 441.2790\n",
            "Epoch 496/2000\n",
            "24/24 [==============================] - 0s 3ms/step - loss: 311.9277 - val_loss: 449.5678\n",
            "Epoch 497/2000\n",
            "24/24 [==============================] - 0s 2ms/step - loss: 319.7746 - val_loss: 407.0002\n",
            "Epoch 498/2000\n",
            "24/24 [==============================] - 0s 3ms/step - loss: 326.6446 - val_loss: 415.2901\n",
            "Epoch 499/2000\n",
            "24/24 [==============================] - 0s 2ms/step - loss: 291.8305 - val_loss: 462.1107\n",
            "Epoch 500/2000\n",
            "24/24 [==============================] - 0s 2ms/step - loss: 316.6530 - val_loss: 533.0385\n",
            "Epoch 501/2000\n",
            "24/24 [==============================] - 0s 3ms/step - loss: 325.8205 - val_loss: 457.8779\n",
            "Epoch 502/2000\n",
            "24/24 [==============================] - 0s 2ms/step - loss: 303.5714 - val_loss: 434.3846\n",
            "Epoch 503/2000\n",
            "24/24 [==============================] - 0s 2ms/step - loss: 302.5598 - val_loss: 468.9606\n",
            "Epoch 504/2000\n",
            "24/24 [==============================] - 0s 3ms/step - loss: 326.2542 - val_loss: 532.6339\n",
            "Epoch 505/2000\n",
            "24/24 [==============================] - 0s 3ms/step - loss: 300.1727 - val_loss: 433.0374\n",
            "Epoch 506/2000\n",
            "24/24 [==============================] - 0s 2ms/step - loss: 301.2489 - val_loss: 412.5983\n",
            "Epoch 507/2000\n",
            "24/24 [==============================] - 0s 2ms/step - loss: 302.8212 - val_loss: 445.8190\n",
            "Epoch 508/2000\n",
            "24/24 [==============================] - 0s 3ms/step - loss: 291.7373 - val_loss: 439.8108\n",
            "Epoch 509/2000\n",
            "24/24 [==============================] - 0s 3ms/step - loss: 320.5008 - val_loss: 480.2957\n",
            "Epoch 510/2000\n",
            "24/24 [==============================] - 0s 2ms/step - loss: 357.7267 - val_loss: 411.7204\n",
            "Epoch 511/2000\n",
            "24/24 [==============================] - 0s 3ms/step - loss: 305.6972 - val_loss: 435.9300\n",
            "Epoch 512/2000\n",
            "24/24 [==============================] - 0s 2ms/step - loss: 290.3218 - val_loss: 510.0758\n",
            "Epoch 513/2000\n",
            "24/24 [==============================] - 0s 2ms/step - loss: 311.4981 - val_loss: 438.3658\n",
            "Epoch 514/2000\n",
            "24/24 [==============================] - 0s 2ms/step - loss: 293.9961 - val_loss: 434.0308\n",
            "Epoch 515/2000\n",
            "24/24 [==============================] - 0s 2ms/step - loss: 322.2408 - val_loss: 412.3281\n",
            "Epoch 516/2000\n",
            "24/24 [==============================] - 0s 3ms/step - loss: 302.7961 - val_loss: 444.7841\n",
            "Epoch 517/2000\n",
            "24/24 [==============================] - 0s 2ms/step - loss: 303.3963 - val_loss: 409.9387\n",
            "Epoch 518/2000\n",
            "24/24 [==============================] - 0s 2ms/step - loss: 292.6136 - val_loss: 469.7187\n",
            "Epoch 519/2000\n",
            "24/24 [==============================] - 0s 2ms/step - loss: 340.5942 - val_loss: 400.8027\n",
            "Epoch 520/2000\n",
            "24/24 [==============================] - 0s 2ms/step - loss: 311.6120 - val_loss: 437.6589\n",
            "Epoch 521/2000\n",
            "24/24 [==============================] - 0s 2ms/step - loss: 346.8402 - val_loss: 428.7988\n",
            "Epoch 522/2000\n",
            "24/24 [==============================] - 0s 2ms/step - loss: 334.4380 - val_loss: 455.6750\n",
            "Epoch 523/2000\n",
            "24/24 [==============================] - 0s 2ms/step - loss: 293.0320 - val_loss: 444.1660\n",
            "Epoch 524/2000\n",
            "24/24 [==============================] - 0s 3ms/step - loss: 309.8718 - val_loss: 531.2781\n",
            "Epoch 525/2000\n",
            "24/24 [==============================] - 0s 2ms/step - loss: 317.8411 - val_loss: 507.8099\n",
            "Epoch 526/2000\n",
            "24/24 [==============================] - 0s 2ms/step - loss: 322.1103 - val_loss: 560.7129\n",
            "Epoch 527/2000\n",
            "24/24 [==============================] - 0s 2ms/step - loss: 303.9694 - val_loss: 469.7518\n",
            "Epoch 528/2000\n",
            "24/24 [==============================] - 0s 2ms/step - loss: 297.9383 - val_loss: 407.0581\n",
            "Epoch 529/2000\n",
            "24/24 [==============================] - 0s 2ms/step - loss: 312.0589 - val_loss: 488.4240\n",
            "Epoch 530/2000\n",
            "24/24 [==============================] - 0s 2ms/step - loss: 331.5103 - val_loss: 443.4723\n",
            "Epoch 531/2000\n",
            "24/24 [==============================] - 0s 2ms/step - loss: 287.4843 - val_loss: 478.4758\n",
            "Epoch 532/2000\n",
            "24/24 [==============================] - 0s 2ms/step - loss: 327.4030 - val_loss: 486.8699\n",
            "Epoch 533/2000\n",
            "24/24 [==============================] - 0s 2ms/step - loss: 280.0336 - val_loss: 437.6060\n",
            "Epoch 534/2000\n",
            "24/24 [==============================] - 0s 2ms/step - loss: 283.6773 - val_loss: 440.8027\n",
            "Epoch 535/2000\n",
            "24/24 [==============================] - 0s 2ms/step - loss: 282.0511 - val_loss: 437.9741\n",
            "Epoch 536/2000\n",
            "24/24 [==============================] - 0s 2ms/step - loss: 297.2759 - val_loss: 511.5821\n",
            "Epoch 537/2000\n",
            "24/24 [==============================] - 0s 2ms/step - loss: 295.0984 - val_loss: 416.1551\n",
            "Epoch 538/2000\n",
            "24/24 [==============================] - 0s 2ms/step - loss: 347.3853 - val_loss: 439.0840\n",
            "Epoch 539/2000\n",
            "24/24 [==============================] - 0s 3ms/step - loss: 342.0685 - val_loss: 410.4916\n",
            "Epoch 540/2000\n",
            "24/24 [==============================] - 0s 2ms/step - loss: 272.9972 - val_loss: 425.1928\n",
            "Epoch 541/2000\n",
            "24/24 [==============================] - 0s 2ms/step - loss: 278.7993 - val_loss: 438.5300\n",
            "Epoch 542/2000\n",
            "24/24 [==============================] - 0s 2ms/step - loss: 287.7776 - val_loss: 442.0722\n",
            "Epoch 543/2000\n",
            "24/24 [==============================] - 0s 2ms/step - loss: 279.1016 - val_loss: 423.6015\n",
            "Epoch 544/2000\n",
            "24/24 [==============================] - 0s 2ms/step - loss: 327.6456 - val_loss: 534.8395\n",
            "Epoch 545/2000\n",
            "24/24 [==============================] - 0s 3ms/step - loss: 308.8477 - val_loss: 428.8549\n",
            "Epoch 546/2000\n",
            "24/24 [==============================] - 0s 2ms/step - loss: 319.4084 - val_loss: 471.6189\n",
            "Epoch 547/2000\n",
            "24/24 [==============================] - 0s 2ms/step - loss: 275.7630 - val_loss: 417.6292\n",
            "Epoch 548/2000\n",
            "24/24 [==============================] - 0s 2ms/step - loss: 304.2019 - val_loss: 504.9681\n",
            "Epoch 549/2000\n",
            "24/24 [==============================] - 0s 2ms/step - loss: 292.3149 - val_loss: 413.3687\n",
            "Epoch 550/2000\n",
            "24/24 [==============================] - 0s 2ms/step - loss: 317.0064 - val_loss: 466.5590\n",
            "Epoch 551/2000\n",
            "24/24 [==============================] - 0s 2ms/step - loss: 306.6646 - val_loss: 390.1344\n",
            "Epoch 552/2000\n",
            "24/24 [==============================] - 0s 3ms/step - loss: 320.2702 - val_loss: 420.7605\n",
            "Epoch 553/2000\n",
            "24/24 [==============================] - 0s 2ms/step - loss: 294.0283 - val_loss: 505.7640\n",
            "Epoch 554/2000\n",
            "24/24 [==============================] - 0s 3ms/step - loss: 283.2182 - val_loss: 471.7807\n",
            "Epoch 555/2000\n",
            "24/24 [==============================] - 0s 3ms/step - loss: 280.5635 - val_loss: 448.8865\n",
            "Epoch 556/2000\n",
            "24/24 [==============================] - 0s 2ms/step - loss: 309.7839 - val_loss: 390.1921\n",
            "Epoch 557/2000\n",
            "24/24 [==============================] - 0s 2ms/step - loss: 284.9214 - val_loss: 411.5451\n",
            "Epoch 558/2000\n",
            "24/24 [==============================] - 0s 3ms/step - loss: 326.3886 - val_loss: 433.7755\n",
            "Epoch 559/2000\n",
            "24/24 [==============================] - 0s 2ms/step - loss: 298.7690 - val_loss: 454.0219\n",
            "Epoch 560/2000\n",
            "24/24 [==============================] - 0s 2ms/step - loss: 291.8264 - val_loss: 425.9895\n",
            "Epoch 561/2000\n",
            "24/24 [==============================] - 0s 3ms/step - loss: 302.7726 - val_loss: 393.7112\n",
            "Epoch 562/2000\n",
            "24/24 [==============================] - 0s 3ms/step - loss: 332.5815 - val_loss: 595.1711\n",
            "Epoch 563/2000\n",
            "24/24 [==============================] - 0s 2ms/step - loss: 277.3868 - val_loss: 418.4910\n",
            "Epoch 564/2000\n",
            "24/24 [==============================] - 0s 3ms/step - loss: 268.9813 - val_loss: 448.6014\n",
            "Epoch 565/2000\n",
            "24/24 [==============================] - 0s 3ms/step - loss: 338.1750 - val_loss: 681.6930\n",
            "Epoch 566/2000\n",
            "24/24 [==============================] - 0s 2ms/step - loss: 386.0015 - val_loss: 458.7210\n",
            "Epoch 567/2000\n",
            "24/24 [==============================] - 0s 2ms/step - loss: 347.4693 - val_loss: 431.1145\n",
            "Epoch 568/2000\n",
            "24/24 [==============================] - 0s 2ms/step - loss: 333.0646 - val_loss: 461.7722\n",
            "Epoch 569/2000\n",
            "24/24 [==============================] - 0s 2ms/step - loss: 273.2601 - val_loss: 465.8263\n",
            "Epoch 570/2000\n",
            "24/24 [==============================] - 0s 2ms/step - loss: 293.2116 - val_loss: 428.0840\n",
            "Epoch 571/2000\n",
            "24/24 [==============================] - 0s 2ms/step - loss: 314.8255 - val_loss: 468.7545\n",
            "Epoch 572/2000\n",
            "24/24 [==============================] - 0s 3ms/step - loss: 273.9749 - val_loss: 490.8514\n",
            "Epoch 573/2000\n",
            "24/24 [==============================] - 0s 2ms/step - loss: 270.2131 - val_loss: 447.0887\n",
            "Epoch 574/2000\n",
            "24/24 [==============================] - 0s 2ms/step - loss: 281.7454 - val_loss: 422.0474\n",
            "Epoch 575/2000\n",
            "24/24 [==============================] - 0s 2ms/step - loss: 271.6365 - val_loss: 440.3731\n",
            "Epoch 576/2000\n",
            "24/24 [==============================] - 0s 2ms/step - loss: 279.6980 - val_loss: 393.8070\n",
            "Epoch 577/2000\n",
            "24/24 [==============================] - 0s 2ms/step - loss: 271.1214 - val_loss: 439.1385\n",
            "Epoch 578/2000\n",
            "24/24 [==============================] - 0s 2ms/step - loss: 304.3393 - val_loss: 411.4368\n",
            "Epoch 579/2000\n",
            "24/24 [==============================] - 0s 3ms/step - loss: 267.8569 - val_loss: 420.2578\n",
            "Epoch 580/2000\n",
            "24/24 [==============================] - 0s 2ms/step - loss: 332.3701 - val_loss: 450.0085\n",
            "Epoch 581/2000\n",
            "24/24 [==============================] - 0s 2ms/step - loss: 286.9555 - val_loss: 529.0627\n",
            "Epoch 582/2000\n",
            "24/24 [==============================] - 0s 2ms/step - loss: 272.1703 - val_loss: 472.3586\n",
            "Epoch 583/2000\n",
            "24/24 [==============================] - 0s 2ms/step - loss: 271.6810 - val_loss: 488.8800\n",
            "Epoch 584/2000\n",
            "24/24 [==============================] - 0s 2ms/step - loss: 280.9894 - val_loss: 418.4230\n",
            "Epoch 585/2000\n",
            "24/24 [==============================] - 0s 2ms/step - loss: 278.9064 - val_loss: 466.1582\n",
            "Epoch 586/2000\n",
            "24/24 [==============================] - 0s 3ms/step - loss: 279.3880 - val_loss: 453.5328\n",
            "Epoch 587/2000\n",
            "24/24 [==============================] - 0s 3ms/step - loss: 311.8381 - val_loss: 446.5109\n",
            "Epoch 588/2000\n",
            "24/24 [==============================] - 0s 2ms/step - loss: 306.8180 - val_loss: 476.6605\n",
            "Epoch 589/2000\n",
            "24/24 [==============================] - 0s 2ms/step - loss: 295.2057 - val_loss: 449.9447\n",
            "Epoch 590/2000\n",
            "24/24 [==============================] - 0s 2ms/step - loss: 286.9677 - val_loss: 484.8341\n",
            "Epoch 591/2000\n",
            "24/24 [==============================] - 0s 2ms/step - loss: 287.5694 - val_loss: 476.7520\n",
            "Epoch 592/2000\n",
            "24/24 [==============================] - 0s 2ms/step - loss: 266.8538 - val_loss: 444.1340\n",
            "Epoch 593/2000\n",
            "24/24 [==============================] - 0s 2ms/step - loss: 264.6509 - val_loss: 508.5255\n",
            "Epoch 594/2000\n",
            "24/24 [==============================] - 0s 3ms/step - loss: 272.8050 - val_loss: 466.5449\n",
            "Epoch 595/2000\n",
            "24/24 [==============================] - 0s 2ms/step - loss: 287.9986 - val_loss: 420.1734\n",
            "Epoch 596/2000\n",
            "24/24 [==============================] - 0s 2ms/step - loss: 347.1268 - val_loss: 375.3996\n",
            "Epoch 597/2000\n",
            "24/24 [==============================] - 0s 2ms/step - loss: 290.9847 - val_loss: 413.2567\n",
            "Epoch 598/2000\n",
            "24/24 [==============================] - 0s 3ms/step - loss: 274.8028 - val_loss: 459.4618\n",
            "Epoch 599/2000\n",
            "24/24 [==============================] - 0s 2ms/step - loss: 290.2607 - val_loss: 498.0139\n",
            "Epoch 600/2000\n",
            "24/24 [==============================] - 0s 2ms/step - loss: 345.5975 - val_loss: 426.7191\n",
            "Epoch 601/2000\n",
            "24/24 [==============================] - 0s 3ms/step - loss: 267.1009 - val_loss: 489.9107\n",
            "Epoch 602/2000\n",
            "24/24 [==============================] - 0s 2ms/step - loss: 282.1885 - val_loss: 434.7890\n",
            "Epoch 603/2000\n",
            "24/24 [==============================] - 0s 2ms/step - loss: 272.3399 - val_loss: 527.2405\n",
            "Epoch 604/2000\n",
            "24/24 [==============================] - 0s 2ms/step - loss: 323.1447 - val_loss: 480.0760\n",
            "Epoch 605/2000\n",
            "24/24 [==============================] - 0s 3ms/step - loss: 270.8498 - val_loss: 407.5617\n",
            "Epoch 606/2000\n",
            "24/24 [==============================] - 0s 3ms/step - loss: 285.8263 - val_loss: 416.7405\n",
            "Epoch 607/2000\n",
            "24/24 [==============================] - 0s 2ms/step - loss: 270.1428 - val_loss: 426.0325\n",
            "Epoch 608/2000\n",
            "24/24 [==============================] - 0s 2ms/step - loss: 271.6381 - val_loss: 399.1685\n",
            "Epoch 609/2000\n",
            "24/24 [==============================] - 0s 2ms/step - loss: 275.8788 - val_loss: 493.7139\n",
            "Epoch 610/2000\n",
            "24/24 [==============================] - 0s 2ms/step - loss: 268.2566 - val_loss: 480.5090\n",
            "Epoch 611/2000\n",
            "24/24 [==============================] - 0s 2ms/step - loss: 270.0152 - val_loss: 438.4846\n",
            "Epoch 612/2000\n",
            "24/24 [==============================] - 0s 3ms/step - loss: 282.1801 - val_loss: 507.1051\n",
            "Epoch 613/2000\n",
            "24/24 [==============================] - 0s 2ms/step - loss: 305.7192 - val_loss: 477.3817\n",
            "Epoch 614/2000\n",
            "24/24 [==============================] - 0s 2ms/step - loss: 296.8595 - val_loss: 516.2335\n",
            "Epoch 615/2000\n",
            "24/24 [==============================] - 0s 2ms/step - loss: 296.4141 - val_loss: 431.7726\n",
            "Epoch 616/2000\n",
            "24/24 [==============================] - 0s 2ms/step - loss: 285.5114 - val_loss: 462.7786\n",
            "Epoch 617/2000\n",
            "24/24 [==============================] - 0s 2ms/step - loss: 302.5703 - val_loss: 546.6867\n",
            "Epoch 618/2000\n",
            "24/24 [==============================] - 0s 3ms/step - loss: 275.1596 - val_loss: 422.7720\n",
            "Epoch 619/2000\n",
            "24/24 [==============================] - 0s 2ms/step - loss: 271.1999 - val_loss: 448.7911\n",
            "Epoch 620/2000\n",
            "24/24 [==============================] - 0s 2ms/step - loss: 275.6557 - val_loss: 385.8520\n",
            "Epoch 621/2000\n",
            "24/24 [==============================] - 0s 2ms/step - loss: 272.1303 - val_loss: 457.5503\n",
            "Epoch 622/2000\n",
            "24/24 [==============================] - 0s 2ms/step - loss: 259.0713 - val_loss: 403.7448\n",
            "Epoch 623/2000\n",
            "24/24 [==============================] - 0s 2ms/step - loss: 276.6195 - val_loss: 484.8272\n",
            "Epoch 624/2000\n",
            "24/24 [==============================] - 0s 2ms/step - loss: 296.0762 - val_loss: 585.5809\n",
            "Epoch 625/2000\n",
            "24/24 [==============================] - 0s 2ms/step - loss: 334.9981 - val_loss: 409.2153\n",
            "Epoch 626/2000\n",
            "24/24 [==============================] - 0s 2ms/step - loss: 260.5638 - val_loss: 505.6808\n",
            "Epoch 627/2000\n",
            "24/24 [==============================] - 0s 2ms/step - loss: 264.8562 - val_loss: 404.0645\n",
            "Epoch 628/2000\n",
            "24/24 [==============================] - 0s 2ms/step - loss: 308.8234 - val_loss: 406.0981\n",
            "Epoch 629/2000\n",
            "24/24 [==============================] - 0s 2ms/step - loss: 302.5081 - val_loss: 468.5350\n",
            "Epoch 630/2000\n",
            "24/24 [==============================] - 0s 2ms/step - loss: 369.8493 - val_loss: 514.0791\n",
            "Epoch 631/2000\n",
            "24/24 [==============================] - 0s 2ms/step - loss: 291.4068 - val_loss: 448.3881\n",
            "Epoch 632/2000\n",
            "24/24 [==============================] - 0s 3ms/step - loss: 289.7479 - val_loss: 388.2440\n",
            "Epoch 633/2000\n",
            "24/24 [==============================] - 0s 3ms/step - loss: 258.0518 - val_loss: 462.9135\n",
            "Epoch 634/2000\n",
            "24/24 [==============================] - 0s 3ms/step - loss: 295.2740 - val_loss: 464.2806\n",
            "Epoch 635/2000\n",
            "24/24 [==============================] - 0s 3ms/step - loss: 300.4671 - val_loss: 577.0262\n",
            "Epoch 636/2000\n",
            "24/24 [==============================] - 0s 2ms/step - loss: 308.9317 - val_loss: 422.3895\n",
            "Epoch 637/2000\n",
            "24/24 [==============================] - 0s 2ms/step - loss: 365.2622 - val_loss: 426.0845\n",
            "Epoch 638/2000\n",
            "24/24 [==============================] - 0s 3ms/step - loss: 295.2268 - val_loss: 523.0846\n",
            "Epoch 639/2000\n",
            "24/24 [==============================] - 0s 3ms/step - loss: 259.8978 - val_loss: 449.0488\n",
            "Epoch 640/2000\n",
            "24/24 [==============================] - 0s 2ms/step - loss: 272.2268 - val_loss: 479.9502\n",
            "Epoch 641/2000\n",
            "24/24 [==============================] - 0s 3ms/step - loss: 264.0424 - val_loss: 526.2316\n",
            "Epoch 642/2000\n",
            "24/24 [==============================] - 0s 2ms/step - loss: 262.1595 - val_loss: 395.2657\n",
            "Epoch 643/2000\n",
            "24/24 [==============================] - 0s 2ms/step - loss: 271.4753 - val_loss: 431.7977\n",
            "Epoch 644/2000\n",
            "24/24 [==============================] - 0s 2ms/step - loss: 255.5404 - val_loss: 433.2527\n",
            "Epoch 645/2000\n",
            "24/24 [==============================] - 0s 2ms/step - loss: 302.0776 - val_loss: 429.4226\n",
            "Epoch 646/2000\n",
            "24/24 [==============================] - 0s 2ms/step - loss: 267.4099 - val_loss: 421.3826\n",
            "Epoch 647/2000\n",
            "24/24 [==============================] - 0s 2ms/step - loss: 263.3741 - val_loss: 428.9438\n",
            "Epoch 648/2000\n",
            "24/24 [==============================] - 0s 2ms/step - loss: 270.7023 - val_loss: 503.4074\n",
            "Epoch 649/2000\n",
            "24/24 [==============================] - 0s 2ms/step - loss: 271.9826 - val_loss: 493.8930\n",
            "Epoch 650/2000\n",
            "24/24 [==============================] - 0s 2ms/step - loss: 258.2285 - val_loss: 459.9370\n",
            "Epoch 651/2000\n",
            "24/24 [==============================] - 0s 4ms/step - loss: 264.4956 - val_loss: 465.7560\n",
            "Epoch 652/2000\n",
            "24/24 [==============================] - 0s 7ms/step - loss: 290.8054 - val_loss: 424.9805\n",
            "Epoch 653/2000\n",
            "24/24 [==============================] - 0s 5ms/step - loss: 319.5522 - val_loss: 533.6544\n",
            "Epoch 654/2000\n",
            "24/24 [==============================] - 0s 3ms/step - loss: 270.5544 - val_loss: 530.8047\n",
            "Epoch 655/2000\n",
            "24/24 [==============================] - 0s 3ms/step - loss: 285.0363 - val_loss: 437.7787\n",
            "Epoch 656/2000\n",
            "24/24 [==============================] - 0s 2ms/step - loss: 285.2575 - val_loss: 481.1807\n",
            "Epoch 657/2000\n",
            "24/24 [==============================] - 0s 3ms/step - loss: 344.1369 - val_loss: 442.7684\n",
            "Epoch 658/2000\n",
            "24/24 [==============================] - 0s 2ms/step - loss: 276.7515 - val_loss: 430.2551\n",
            "Epoch 659/2000\n",
            "24/24 [==============================] - 0s 3ms/step - loss: 302.7308 - val_loss: 519.1024\n",
            "Epoch 660/2000\n",
            "24/24 [==============================] - 0s 2ms/step - loss: 269.1015 - val_loss: 457.6888\n",
            "Epoch 661/2000\n",
            "24/24 [==============================] - 0s 2ms/step - loss: 251.4853 - val_loss: 414.3854\n",
            "Epoch 662/2000\n",
            "24/24 [==============================] - 0s 3ms/step - loss: 265.5847 - val_loss: 485.5564\n",
            "Epoch 663/2000\n",
            "24/24 [==============================] - 0s 9ms/step - loss: 304.1859 - val_loss: 596.1652\n",
            "Epoch 664/2000\n",
            "24/24 [==============================] - 0s 7ms/step - loss: 295.8056 - val_loss: 482.6282\n",
            "Epoch 665/2000\n",
            "24/24 [==============================] - 0s 3ms/step - loss: 280.2254 - val_loss: 432.7371\n",
            "Epoch 666/2000\n",
            "24/24 [==============================] - 0s 3ms/step - loss: 256.9796 - val_loss: 439.8626\n",
            "Epoch 667/2000\n",
            "24/24 [==============================] - 0s 2ms/step - loss: 255.0028 - val_loss: 452.4850\n",
            "Epoch 668/2000\n",
            "24/24 [==============================] - 0s 2ms/step - loss: 260.7224 - val_loss: 427.1683\n",
            "Epoch 669/2000\n",
            "24/24 [==============================] - 0s 2ms/step - loss: 263.2730 - val_loss: 434.8353\n",
            "Epoch 670/2000\n",
            "24/24 [==============================] - 0s 2ms/step - loss: 290.3149 - val_loss: 460.7435\n",
            "Epoch 671/2000\n",
            "24/24 [==============================] - 0s 3ms/step - loss: 259.7993 - val_loss: 505.8758\n",
            "Epoch 672/2000\n",
            "24/24 [==============================] - 0s 2ms/step - loss: 267.6203 - val_loss: 515.8933\n",
            "Epoch 673/2000\n",
            "24/24 [==============================] - 0s 4ms/step - loss: 258.6910 - val_loss: 477.6802\n",
            "Epoch 674/2000\n",
            "24/24 [==============================] - 0s 7ms/step - loss: 303.1738 - val_loss: 529.7185\n",
            "Epoch 675/2000\n",
            "24/24 [==============================] - 0s 3ms/step - loss: 254.7492 - val_loss: 396.6935\n",
            "Epoch 676/2000\n",
            "24/24 [==============================] - 0s 4ms/step - loss: 280.9574 - val_loss: 443.0322\n",
            "Epoch 677/2000\n",
            "24/24 [==============================] - 0s 2ms/step - loss: 273.2271 - val_loss: 459.5346\n",
            "Epoch 678/2000\n",
            "24/24 [==============================] - 0s 2ms/step - loss: 255.5184 - val_loss: 503.5492\n",
            "Epoch 679/2000\n",
            "24/24 [==============================] - 0s 3ms/step - loss: 288.8312 - val_loss: 391.9787\n",
            "Epoch 680/2000\n",
            "24/24 [==============================] - 0s 3ms/step - loss: 300.0768 - val_loss: 419.0986\n",
            "Epoch 681/2000\n",
            "24/24 [==============================] - 0s 3ms/step - loss: 307.6328 - val_loss: 551.8900\n",
            "Epoch 682/2000\n",
            "24/24 [==============================] - 0s 3ms/step - loss: 293.2479 - val_loss: 521.1776\n",
            "Epoch 683/2000\n",
            "24/24 [==============================] - 0s 2ms/step - loss: 255.4405 - val_loss: 554.1459\n",
            "Epoch 684/2000\n",
            "24/24 [==============================] - 0s 2ms/step - loss: 266.0208 - val_loss: 424.8029\n",
            "Epoch 685/2000\n",
            "24/24 [==============================] - 0s 3ms/step - loss: 241.8987 - val_loss: 532.6821\n",
            "Epoch 686/2000\n",
            "24/24 [==============================] - 0s 3ms/step - loss: 260.7131 - val_loss: 449.1359\n",
            "Epoch 687/2000\n",
            "24/24 [==============================] - 0s 2ms/step - loss: 257.5277 - val_loss: 445.6361\n",
            "Epoch 688/2000\n",
            "24/24 [==============================] - 0s 2ms/step - loss: 293.5606 - val_loss: 554.6061\n",
            "Epoch 689/2000\n",
            "24/24 [==============================] - 0s 2ms/step - loss: 276.2970 - val_loss: 417.7297\n",
            "Epoch 690/2000\n",
            "24/24 [==============================] - 0s 2ms/step - loss: 249.9011 - val_loss: 521.4258\n",
            "Epoch 691/2000\n",
            "24/24 [==============================] - 0s 2ms/step - loss: 255.1145 - val_loss: 447.7711\n",
            "Epoch 692/2000\n",
            "24/24 [==============================] - 0s 3ms/step - loss: 258.5924 - val_loss: 471.4689\n",
            "Epoch 693/2000\n",
            "24/24 [==============================] - 0s 3ms/step - loss: 252.8892 - val_loss: 405.0162\n",
            "Epoch 694/2000\n",
            "24/24 [==============================] - 0s 3ms/step - loss: 254.6236 - val_loss: 465.9612\n",
            "Epoch 695/2000\n",
            "24/24 [==============================] - 0s 2ms/step - loss: 276.2404 - val_loss: 483.1824\n",
            "Epoch 696/2000\n",
            "24/24 [==============================] - 0s 3ms/step - loss: 251.3424 - val_loss: 432.3317\n",
            "Epoch 697/2000\n",
            "24/24 [==============================] - 0s 2ms/step - loss: 254.8562 - val_loss: 543.0867\n",
            "Epoch 698/2000\n",
            "24/24 [==============================] - 0s 2ms/step - loss: 247.4378 - val_loss: 422.4701\n",
            "Epoch 699/2000\n",
            "24/24 [==============================] - 0s 2ms/step - loss: 257.8960 - val_loss: 429.0045\n",
            "Epoch 700/2000\n",
            "24/24 [==============================] - 0s 2ms/step - loss: 237.6120 - val_loss: 411.5481\n",
            "Epoch 701/2000\n",
            "24/24 [==============================] - 0s 2ms/step - loss: 267.8561 - val_loss: 469.9923\n",
            "Epoch 702/2000\n",
            "24/24 [==============================] - 0s 3ms/step - loss: 250.9476 - val_loss: 507.5177\n",
            "Epoch 703/2000\n",
            "24/24 [==============================] - 0s 3ms/step - loss: 273.5603 - val_loss: 644.5096\n",
            "Epoch 704/2000\n",
            "24/24 [==============================] - 0s 2ms/step - loss: 344.9158 - val_loss: 462.2180\n",
            "Epoch 705/2000\n",
            "24/24 [==============================] - 0s 3ms/step - loss: 270.5419 - val_loss: 411.6688\n",
            "Epoch 706/2000\n",
            "24/24 [==============================] - 0s 2ms/step - loss: 306.1808 - val_loss: 463.3816\n",
            "Epoch 707/2000\n",
            "24/24 [==============================] - 0s 2ms/step - loss: 259.0558 - val_loss: 444.9037\n",
            "Epoch 708/2000\n",
            "24/24 [==============================] - 0s 2ms/step - loss: 268.8795 - val_loss: 408.4839\n",
            "Epoch 709/2000\n",
            "24/24 [==============================] - 0s 2ms/step - loss: 327.3953 - val_loss: 719.9772\n",
            "Epoch 710/2000\n",
            "24/24 [==============================] - 0s 2ms/step - loss: 281.0528 - val_loss: 399.2469\n",
            "Epoch 711/2000\n",
            "24/24 [==============================] - 0s 3ms/step - loss: 295.0382 - val_loss: 460.6433\n",
            "Epoch 712/2000\n",
            "24/24 [==============================] - 0s 3ms/step - loss: 294.2384 - val_loss: 541.3112\n",
            "Epoch 713/2000\n",
            "24/24 [==============================] - 0s 2ms/step - loss: 265.3982 - val_loss: 468.2513\n",
            "Epoch 714/2000\n",
            "24/24 [==============================] - 0s 2ms/step - loss: 254.2408 - val_loss: 461.9260\n",
            "Epoch 715/2000\n",
            "24/24 [==============================] - 0s 3ms/step - loss: 272.5280 - val_loss: 363.6745\n",
            "Epoch 716/2000\n",
            "24/24 [==============================] - 0s 3ms/step - loss: 291.0974 - val_loss: 466.7406\n",
            "Epoch 717/2000\n",
            "24/24 [==============================] - 0s 3ms/step - loss: 281.4241 - val_loss: 519.5072\n",
            "Epoch 718/2000\n",
            "24/24 [==============================] - 0s 3ms/step - loss: 270.5261 - val_loss: 446.1770\n",
            "Epoch 719/2000\n",
            "24/24 [==============================] - 0s 3ms/step - loss: 251.7184 - val_loss: 479.7136\n",
            "Epoch 720/2000\n",
            "24/24 [==============================] - 0s 3ms/step - loss: 258.1841 - val_loss: 418.6253\n",
            "Epoch 721/2000\n",
            "24/24 [==============================] - 0s 2ms/step - loss: 321.0382 - val_loss: 536.0914\n",
            "Epoch 722/2000\n",
            "24/24 [==============================] - 0s 2ms/step - loss: 247.6605 - val_loss: 568.2253\n",
            "Epoch 723/2000\n",
            "24/24 [==============================] - 0s 3ms/step - loss: 249.2833 - val_loss: 389.8107\n",
            "Epoch 724/2000\n",
            "24/24 [==============================] - 0s 3ms/step - loss: 251.2570 - val_loss: 524.9211\n",
            "Epoch 725/2000\n",
            "24/24 [==============================] - 0s 2ms/step - loss: 324.6104 - val_loss: 764.1215\n",
            "Epoch 726/2000\n",
            "24/24 [==============================] - 0s 3ms/step - loss: 304.8652 - val_loss: 427.5034\n",
            "Epoch 727/2000\n",
            "24/24 [==============================] - 0s 3ms/step - loss: 272.5756 - val_loss: 438.7242\n",
            "Epoch 728/2000\n",
            "24/24 [==============================] - 0s 3ms/step - loss: 252.1020 - val_loss: 473.2387\n",
            "Epoch 729/2000\n",
            "24/24 [==============================] - 0s 3ms/step - loss: 248.6276 - val_loss: 442.1391\n",
            "Epoch 730/2000\n",
            "24/24 [==============================] - 0s 3ms/step - loss: 265.7171 - val_loss: 433.2550\n",
            "Epoch 731/2000\n",
            "24/24 [==============================] - 0s 2ms/step - loss: 326.0018 - val_loss: 645.4894\n",
            "Epoch 732/2000\n",
            "24/24 [==============================] - 0s 3ms/step - loss: 295.7840 - val_loss: 473.1372\n",
            "Epoch 733/2000\n",
            "24/24 [==============================] - 0s 2ms/step - loss: 253.2167 - val_loss: 438.8681\n",
            "Epoch 734/2000\n",
            "24/24 [==============================] - 0s 2ms/step - loss: 251.3963 - val_loss: 423.6223\n",
            "Epoch 735/2000\n",
            "24/24 [==============================] - 0s 3ms/step - loss: 234.7266 - val_loss: 417.4937\n",
            "Epoch 736/2000\n",
            "24/24 [==============================] - 0s 2ms/step - loss: 241.7524 - val_loss: 453.9780\n",
            "Epoch 737/2000\n",
            "24/24 [==============================] - 0s 2ms/step - loss: 263.0820 - val_loss: 536.2366\n",
            "Epoch 738/2000\n",
            "24/24 [==============================] - 0s 3ms/step - loss: 296.9694 - val_loss: 451.1995\n",
            "Epoch 739/2000\n",
            "24/24 [==============================] - 0s 2ms/step - loss: 302.1390 - val_loss: 550.7316\n",
            "Epoch 740/2000\n",
            "24/24 [==============================] - 0s 3ms/step - loss: 266.7392 - val_loss: 457.3635\n",
            "Epoch 741/2000\n",
            "24/24 [==============================] - 0s 2ms/step - loss: 259.6757 - val_loss: 548.1129\n",
            "Epoch 742/2000\n",
            "24/24 [==============================] - 0s 2ms/step - loss: 244.0556 - val_loss: 435.1122\n",
            "Epoch 743/2000\n",
            "24/24 [==============================] - 0s 2ms/step - loss: 271.3560 - val_loss: 465.7209\n",
            "Epoch 744/2000\n",
            "24/24 [==============================] - 0s 3ms/step - loss: 270.5841 - val_loss: 466.4620\n",
            "Epoch 745/2000\n",
            "24/24 [==============================] - 0s 2ms/step - loss: 242.2535 - val_loss: 550.0798\n",
            "Epoch 746/2000\n",
            "24/24 [==============================] - 0s 2ms/step - loss: 231.6435 - val_loss: 487.0351\n",
            "Epoch 747/2000\n",
            "24/24 [==============================] - 0s 3ms/step - loss: 301.4135 - val_loss: 480.4783\n",
            "Epoch 748/2000\n",
            "24/24 [==============================] - 0s 3ms/step - loss: 284.9120 - val_loss: 440.3753\n",
            "Epoch 749/2000\n",
            "24/24 [==============================] - 0s 2ms/step - loss: 305.2867 - val_loss: 494.6040\n",
            "Epoch 750/2000\n",
            "24/24 [==============================] - 0s 2ms/step - loss: 277.3117 - val_loss: 462.2843\n",
            "Epoch 751/2000\n",
            "24/24 [==============================] - 0s 2ms/step - loss: 252.7047 - val_loss: 488.7716\n",
            "Epoch 752/2000\n",
            "24/24 [==============================] - 0s 2ms/step - loss: 299.8711 - val_loss: 498.3690\n",
            "Epoch 753/2000\n",
            "24/24 [==============================] - 0s 2ms/step - loss: 301.7376 - val_loss: 426.6501\n",
            "Epoch 754/2000\n",
            "24/24 [==============================] - 0s 3ms/step - loss: 260.7539 - val_loss: 466.9930\n",
            "Epoch 755/2000\n",
            "24/24 [==============================] - 0s 2ms/step - loss: 275.0529 - val_loss: 418.2676\n",
            "Epoch 756/2000\n",
            "24/24 [==============================] - 0s 2ms/step - loss: 252.5985 - val_loss: 555.4619\n",
            "Epoch 757/2000\n",
            "24/24 [==============================] - 0s 2ms/step - loss: 274.3112 - val_loss: 405.2187\n",
            "Epoch 758/2000\n",
            "24/24 [==============================] - 0s 2ms/step - loss: 242.4033 - val_loss: 519.6509\n",
            "Epoch 759/2000\n",
            "24/24 [==============================] - 0s 2ms/step - loss: 258.5832 - val_loss: 491.0735\n",
            "Epoch 760/2000\n",
            "24/24 [==============================] - 0s 2ms/step - loss: 267.9874 - val_loss: 444.7386\n",
            "Epoch 761/2000\n",
            "24/24 [==============================] - 0s 3ms/step - loss: 237.9358 - val_loss: 477.9804\n",
            "Epoch 762/2000\n",
            "24/24 [==============================] - 0s 3ms/step - loss: 301.1978 - val_loss: 412.5410\n",
            "Epoch 763/2000\n",
            "24/24 [==============================] - 0s 2ms/step - loss: 232.0891 - val_loss: 551.3726\n",
            "Epoch 764/2000\n",
            "24/24 [==============================] - 0s 3ms/step - loss: 234.5670 - val_loss: 495.7839\n",
            "Epoch 765/2000\n",
            "24/24 [==============================] - 0s 2ms/step - loss: 254.4601 - val_loss: 488.4562\n",
            "Epoch 766/2000\n",
            "24/24 [==============================] - 0s 3ms/step - loss: 256.6507 - val_loss: 431.8199\n",
            "Epoch 767/2000\n",
            "24/24 [==============================] - 0s 3ms/step - loss: 239.9814 - val_loss: 468.2830\n",
            "Epoch 768/2000\n",
            "24/24 [==============================] - 0s 3ms/step - loss: 281.2899 - val_loss: 488.0728\n",
            "Epoch 769/2000\n",
            "24/24 [==============================] - 0s 2ms/step - loss: 295.6097 - val_loss: 520.1764\n",
            "Epoch 770/2000\n",
            "24/24 [==============================] - 0s 2ms/step - loss: 240.4555 - val_loss: 509.8441\n",
            "Epoch 771/2000\n",
            "24/24 [==============================] - 0s 3ms/step - loss: 252.7984 - val_loss: 410.3496\n",
            "Epoch 772/2000\n",
            "24/24 [==============================] - 0s 3ms/step - loss: 289.5927 - val_loss: 611.6742\n",
            "Epoch 773/2000\n",
            "24/24 [==============================] - 0s 2ms/step - loss: 287.3712 - val_loss: 510.8950\n",
            "Epoch 774/2000\n",
            "24/24 [==============================] - 0s 2ms/step - loss: 325.4006 - val_loss: 556.0509\n",
            "Epoch 775/2000\n",
            "24/24 [==============================] - 0s 2ms/step - loss: 234.5992 - val_loss: 418.7998\n",
            "Epoch 776/2000\n",
            "24/24 [==============================] - 0s 2ms/step - loss: 253.6074 - val_loss: 467.6106\n",
            "Epoch 777/2000\n",
            "24/24 [==============================] - 0s 3ms/step - loss: 247.9136 - val_loss: 603.9731\n",
            "Epoch 778/2000\n",
            "24/24 [==============================] - 0s 3ms/step - loss: 247.9651 - val_loss: 465.7223\n",
            "Epoch 779/2000\n",
            "24/24 [==============================] - 0s 2ms/step - loss: 226.6315 - val_loss: 485.9595\n",
            "Epoch 780/2000\n",
            "24/24 [==============================] - 0s 2ms/step - loss: 255.5391 - val_loss: 572.9922\n",
            "Epoch 781/2000\n",
            "24/24 [==============================] - 0s 3ms/step - loss: 234.0536 - val_loss: 608.1085\n",
            "Epoch 782/2000\n",
            "24/24 [==============================] - 0s 3ms/step - loss: 237.5255 - val_loss: 455.6279\n",
            "Epoch 783/2000\n",
            "24/24 [==============================] - 0s 2ms/step - loss: 229.0600 - val_loss: 444.5938\n",
            "Epoch 784/2000\n",
            "24/24 [==============================] - 0s 3ms/step - loss: 234.3975 - val_loss: 451.7632\n",
            "Epoch 785/2000\n",
            "24/24 [==============================] - 0s 3ms/step - loss: 234.2474 - val_loss: 460.4531\n",
            "Epoch 786/2000\n",
            "24/24 [==============================] - 0s 2ms/step - loss: 246.1884 - val_loss: 478.1445\n",
            "Epoch 787/2000\n",
            "24/24 [==============================] - 0s 2ms/step - loss: 243.1235 - val_loss: 495.2186\n",
            "Epoch 788/2000\n",
            "24/24 [==============================] - 0s 2ms/step - loss: 226.4762 - val_loss: 509.4446\n",
            "Epoch 789/2000\n",
            "24/24 [==============================] - 0s 2ms/step - loss: 219.6008 - val_loss: 507.6853\n",
            "Epoch 790/2000\n",
            "24/24 [==============================] - 0s 3ms/step - loss: 228.0034 - val_loss: 455.1569\n",
            "Epoch 791/2000\n",
            "24/24 [==============================] - 0s 2ms/step - loss: 239.2091 - val_loss: 450.9425\n",
            "Epoch 792/2000\n",
            "24/24 [==============================] - 0s 2ms/step - loss: 235.4724 - val_loss: 563.0941\n",
            "Epoch 793/2000\n",
            "24/24 [==============================] - 0s 2ms/step - loss: 246.9480 - val_loss: 595.7715\n",
            "Epoch 794/2000\n",
            "24/24 [==============================] - 0s 3ms/step - loss: 254.8792 - val_loss: 492.0298\n",
            "Epoch 795/2000\n",
            "24/24 [==============================] - 0s 3ms/step - loss: 265.5159 - val_loss: 478.7869\n",
            "Epoch 796/2000\n",
            "24/24 [==============================] - 0s 2ms/step - loss: 232.6017 - val_loss: 441.5661\n",
            "Epoch 797/2000\n",
            "24/24 [==============================] - 0s 2ms/step - loss: 242.4846 - val_loss: 517.8301\n",
            "Epoch 798/2000\n",
            "24/24 [==============================] - 0s 3ms/step - loss: 244.7269 - val_loss: 436.2027\n",
            "Epoch 799/2000\n",
            "24/24 [==============================] - 0s 3ms/step - loss: 233.6646 - val_loss: 445.9082\n",
            "Epoch 800/2000\n",
            "24/24 [==============================] - 0s 3ms/step - loss: 236.5755 - val_loss: 542.4380\n",
            "Epoch 801/2000\n",
            "24/24 [==============================] - 0s 3ms/step - loss: 227.5613 - val_loss: 485.7864\n",
            "Epoch 802/2000\n",
            "24/24 [==============================] - 0s 3ms/step - loss: 251.8799 - val_loss: 528.6414\n",
            "Epoch 803/2000\n",
            "24/24 [==============================] - 0s 2ms/step - loss: 255.4079 - val_loss: 515.1343\n",
            "Epoch 804/2000\n",
            "24/24 [==============================] - 0s 2ms/step - loss: 251.0650 - val_loss: 506.4624\n",
            "Epoch 805/2000\n",
            "24/24 [==============================] - 0s 2ms/step - loss: 259.9517 - val_loss: 411.9226\n",
            "Epoch 806/2000\n",
            "24/24 [==============================] - 0s 2ms/step - loss: 239.5222 - val_loss: 490.1483\n",
            "Epoch 807/2000\n",
            "24/24 [==============================] - 0s 3ms/step - loss: 243.5658 - val_loss: 463.6357\n",
            "Epoch 808/2000\n",
            "24/24 [==============================] - 0s 2ms/step - loss: 234.8515 - val_loss: 463.5106\n",
            "Epoch 809/2000\n",
            "24/24 [==============================] - 0s 3ms/step - loss: 227.8441 - val_loss: 504.8084\n",
            "Epoch 810/2000\n",
            "24/24 [==============================] - 0s 2ms/step - loss: 223.7446 - val_loss: 539.3032\n",
            "Epoch 811/2000\n",
            "24/24 [==============================] - 0s 2ms/step - loss: 236.1058 - val_loss: 440.8985\n",
            "Epoch 812/2000\n",
            "24/24 [==============================] - 0s 2ms/step - loss: 273.8015 - val_loss: 531.5411\n",
            "Epoch 813/2000\n",
            "24/24 [==============================] - 0s 2ms/step - loss: 254.6083 - val_loss: 475.8436\n",
            "Epoch 814/2000\n",
            "24/24 [==============================] - 0s 2ms/step - loss: 250.0587 - val_loss: 413.5020\n",
            "Epoch 815/2000\n",
            "24/24 [==============================] - 0s 3ms/step - loss: 229.3071 - val_loss: 449.3792\n",
            "Epoch 816/2000\n",
            "24/24 [==============================] - 0s 3ms/step - loss: 240.2213 - val_loss: 564.9986\n",
            "Epoch 817/2000\n",
            "24/24 [==============================] - 0s 3ms/step - loss: 230.0898 - val_loss: 460.5670\n",
            "Epoch 818/2000\n",
            "24/24 [==============================] - 0s 2ms/step - loss: 236.9695 - val_loss: 495.1061\n",
            "Epoch 819/2000\n",
            "24/24 [==============================] - 0s 2ms/step - loss: 242.5025 - val_loss: 526.1505\n",
            "Epoch 820/2000\n",
            "24/24 [==============================] - 0s 2ms/step - loss: 251.1691 - val_loss: 526.8452\n",
            "Epoch 821/2000\n",
            "24/24 [==============================] - 0s 2ms/step - loss: 235.8398 - val_loss: 506.9174\n",
            "Epoch 822/2000\n",
            "24/24 [==============================] - 0s 3ms/step - loss: 242.5877 - val_loss: 456.6142\n",
            "Epoch 823/2000\n",
            "24/24 [==============================] - 0s 3ms/step - loss: 251.6162 - val_loss: 444.3121\n",
            "Epoch 824/2000\n",
            "24/24 [==============================] - 0s 2ms/step - loss: 252.3817 - val_loss: 431.4733\n",
            "Epoch 825/2000\n",
            "24/24 [==============================] - 0s 2ms/step - loss: 230.6859 - val_loss: 478.9015\n",
            "Epoch 826/2000\n",
            "24/24 [==============================] - 0s 2ms/step - loss: 247.5045 - val_loss: 547.4648\n",
            "Epoch 827/2000\n",
            "24/24 [==============================] - 0s 3ms/step - loss: 315.3355 - val_loss: 482.1266\n",
            "Epoch 828/2000\n",
            "24/24 [==============================] - 0s 3ms/step - loss: 256.7870 - val_loss: 475.2799\n",
            "Epoch 829/2000\n",
            "24/24 [==============================] - 0s 2ms/step - loss: 265.0689 - val_loss: 431.6747\n",
            "Epoch 830/2000\n",
            "24/24 [==============================] - 0s 2ms/step - loss: 255.5916 - val_loss: 481.7437\n",
            "Epoch 831/2000\n",
            "24/24 [==============================] - 0s 2ms/step - loss: 270.9830 - val_loss: 595.4766\n",
            "Epoch 832/2000\n",
            "24/24 [==============================] - 0s 2ms/step - loss: 267.1479 - val_loss: 476.6411\n",
            "Epoch 833/2000\n",
            "24/24 [==============================] - 0s 3ms/step - loss: 233.0753 - val_loss: 413.5178\n",
            "Epoch 834/2000\n",
            "24/24 [==============================] - 0s 2ms/step - loss: 231.3619 - val_loss: 460.0074\n",
            "Epoch 835/2000\n",
            "24/24 [==============================] - 0s 3ms/step - loss: 259.4420 - val_loss: 531.7053\n",
            "Epoch 836/2000\n",
            "24/24 [==============================] - 0s 3ms/step - loss: 283.6927 - val_loss: 458.7160\n",
            "Epoch 837/2000\n",
            "24/24 [==============================] - 0s 3ms/step - loss: 247.7733 - val_loss: 498.3384\n",
            "Epoch 838/2000\n",
            "24/24 [==============================] - 0s 3ms/step - loss: 236.9334 - val_loss: 480.9926\n",
            "Epoch 839/2000\n",
            "24/24 [==============================] - 0s 2ms/step - loss: 271.5138 - val_loss: 447.8242\n"
          ]
        }
      ],
      "source": [
        "\n",
        "model = Sequential()\n",
        "model .add(Dense (128,activation='relu',input_dim =15))\n",
        "model .add(Dense (64,activation='relu'))\n",
        "model .add(Dense (1))\n",
        "callback = tf.keras.callbacks.EarlyStopping(monitor='loss', patience=50)\n",
        "model .compile(loss = \"mean_squared_error\",optimizer=\"adam\")\n",
        "ht = model.fit(x_train,y_train,validation_split= 0.15,epochs = 2000,callbacks=[callback])"
      ]
    },
    {
      "cell_type": "code",
      "execution_count": null,
      "metadata": {
        "colab": {
          "base_uri": "https://localhost:8080/"
        },
        "id": "pzmgsXJ3cvpo",
        "outputId": "5c5e3892-5df7-4056-dd58-dc791f562304"
      },
      "outputs": [
        {
          "output_type": "stream",
          "name": "stdout",
          "text": [
            "Model: \"sequential_2\"\n",
            "_________________________________________________________________\n",
            " Layer (type)                Output Shape              Param #   \n",
            "=================================================================\n",
            " dense_6 (Dense)             (None, 128)               2048      \n",
            "                                                                 \n",
            " dense_7 (Dense)             (None, 64)                8256      \n",
            "                                                                 \n",
            " dense_8 (Dense)             (None, 1)                 65        \n",
            "                                                                 \n",
            "=================================================================\n",
            "Total params: 10,369\n",
            "Trainable params: 10,369\n",
            "Non-trainable params: 0\n",
            "_________________________________________________________________\n"
          ]
        }
      ],
      "source": [
        "model.summary()"
      ]
    },
    {
      "cell_type": "code",
      "execution_count": null,
      "metadata": {
        "colab": {
          "base_uri": "https://localhost:8080/"
        },
        "id": "rknmDIh2EJCe",
        "outputId": "0baa081c-9329-4b21-b0a4-1fd050d2e931"
      },
      "outputs": [
        {
          "output_type": "stream",
          "name": "stdout",
          "text": [
            "7/7 [==============================] - 0s 1ms/step\n"
          ]
        }
      ],
      "source": [
        "y_predicted = model.predict(x_test)"
      ]
    },
    {
      "cell_type": "code",
      "execution_count": null,
      "metadata": {
        "colab": {
          "base_uri": "https://localhost:8080/"
        },
        "id": "ckIYOJR_L0rJ",
        "outputId": "4eb14fdf-d928-4409-e739-c569ed01ffcd"
      },
      "outputs": [
        {
          "output_type": "execute_result",
          "data": {
            "text/plain": [
              "((220, 1), (220,))"
            ]
          },
          "metadata": {},
          "execution_count": 26
        }
      ],
      "source": [
        "y_predicted.shape,y_test.shape"
      ]
    },
    {
      "cell_type": "code",
      "source": [],
      "metadata": {
        "id": "63E8sY4Wx_-I"
      },
      "execution_count": null,
      "outputs": []
    },
    {
      "cell_type": "markdown",
      "source": [
        "# **MAPE/ACC**"
      ],
      "metadata": {
        "id": "C4ahuAW2x92L"
      }
    },
    {
      "cell_type": "code",
      "execution_count": null,
      "metadata": {
        "colab": {
          "base_uri": "https://localhost:8080/"
        },
        "id": "CtKWo4mTL4Sw",
        "outputId": "0c180d50-e0b0-4623-aa2e-de4a027ec52a"
      },
      "outputs": [
        {
          "output_type": "execute_result",
          "data": {
            "text/plain": [
              "0.12875087823888898"
            ]
          },
          "metadata": {},
          "execution_count": 27
        }
      ],
      "source": [
        "import numpy\n",
        "y_predicted_1 = y_predicted.reshape(1,220)\n",
        "y_test_1 = y_test.to_numpy()\n",
        "APE = abs(numpy.subtract(y_predicted_1,y_test_1))/y_test_1*100\n",
        "MAPE = numpy.mean(APE)\n",
        "MAPE"
      ]
    },
    {
      "cell_type": "code",
      "execution_count": null,
      "metadata": {
        "colab": {
          "base_uri": "https://localhost:8080/",
          "height": 295
        },
        "id": "QhrAYScYjQr4",
        "outputId": "b77bc019-fcfd-46ef-d86f-f8ccb913c035"
      },
      "outputs": [
        {
          "output_type": "display_data",
          "data": {
            "text/plain": [
              "<Figure size 432x288 with 1 Axes>"
            ],
            "image/png": "[encoded data removed]"
          },
          "metadata": {
            "needs_background": "light"
          }
        }
      ],
      "source": [
        "plt.plot(ht.history['loss'])\n",
        "plt.plot(ht.history['val_loss'])\n",
        "plt.title('model loss')\n",
        "plt.ylabel('loss')\n",
        "plt.xlabel('epoch')\n",
        "plt.legend(['train', 'val'], loc='upper right')\n",
        "plt.show()"
      ]
    },
    {
      "cell_type": "markdown",
      "source": [
        "# **Actual Vs Predicted**"
      ],
      "metadata": {
        "id": "wO_SYA2KyBnW"
      }
    },
    {
      "cell_type": "code",
      "source": [
        "plt.plot(y_predicted)\n",
        "plt.plot(y_test_1)\n",
        "plt.title('Actual Vs Predicted')\n",
        "#plt.ylabel('loss')\n",
        "#plt.xlabel('epoch')\n",
        "plt.legend(['y_predicted', 'y_test'], loc='upper right')\n",
        "plt.show()"
      ],
      "metadata": {
        "colab": {
          "base_uri": "https://localhost:8080/",
          "height": 281
        },
        "id": "xhluGMmbMOMj",
        "outputId": "c524c1d7-ca00-4382-8e6e-61b406a03732"
      },
      "execution_count": null,
      "outputs": [
        {
          "output_type": "display_data",
          "data": {
            "text/plain": [
              "<Figure size 432x288 with 1 Axes>"
            ],
            "image/png": "[encoded data removed]"
          },
          "metadata": {
            "needs_background": "light"
          }
        }
      ]
    },
    {
      "cell_type": "code",
      "source": [],
      "metadata": {
        "id": "G_GZiCY7_-gL"
      },
      "execution_count": null,
      "outputs": []
    },
    {
      "cell_type": "code",
      "source": [],
      "metadata": {
        "id": "NuCxrYdf_-kN"
      },
      "execution_count": null,
      "outputs": []
    },
    {
      "cell_type": "code",
      "source": [],
      "metadata": {
        "id": "rOii-lXJxvIw"
      },
      "execution_count": null,
      "outputs": []
    },
    {
      "cell_type": "code",
      "source": [],
      "metadata": {
        "id": "Z9JnkU0oxvNT"
      },
      "execution_count": null,
      "outputs": []
    },
    {
      "cell_type": "code",
      "source": [],
      "metadata": {
        "id": "4RwZBm_AxvRU"
      },
      "execution_count": null,
      "outputs": []
    },
    {
      "cell_type": "code",
      "source": [],
      "metadata": {
        "id": "a-NHlYNTxvVD"
      },
      "execution_count": null,
      "outputs": []
    },
    {
      "cell_type": "code",
      "source": [],
      "metadata": {
        "id": "M_M_cIckKqeM"
      },
      "execution_count": null,
      "outputs": []
    },
    {
      "cell_type": "markdown",
      "source": [
        "# **`SVM`**"
      ],
      "metadata": {
        "id": "ky0ic2A40H3z"
      }
    },
    {
      "cell_type": "code",
      "source": [
        "y= data[\"Profit\"]"
      ],
      "metadata": {
        "id": "oe-C43jXzoU1"
      },
      "execution_count": null,
      "outputs": []
    },
    {
      "cell_type": "code",
      "source": [],
      "metadata": {
        "id": "vtaZF_Ry_RS4"
      },
      "execution_count": null,
      "outputs": []
    },
    {
      "cell_type": "code",
      "source": [
        "y.shape"
      ],
      "metadata": {
        "colab": {
          "base_uri": "https://localhost:8080/"
        },
        "id": "fKIAz6WVz1J2",
        "outputId": "c4c69e0d-7a9b-4502-bc81-c1820f1e5229"
      },
      "execution_count": null,
      "outputs": [
        {
          "output_type": "execute_result",
          "data": {
            "text/plain": [
              "(1104,)"
            ]
          },
          "metadata": {},
          "execution_count": 33
        }
      ]
    },
    {
      "cell_type": "code",
      "source": [
        "plt.plot(y)"
      ],
      "metadata": {
        "colab": {
          "base_uri": "https://localhost:8080/",
          "height": 282
        },
        "id": "OCvWXkTEzoX1",
        "outputId": "f77a4b76-4a88-4119-a70d-89d4a927b8e1"
      },
      "execution_count": null,
      "outputs": [
        {
          "output_type": "execute_result",
          "data": {
            "text/plain": [
              "[<matplotlib.lines.Line2D at 0x7fdfd0558880>]"
            ]
          },
          "metadata": {},
          "execution_count": 36
        },
        {
          "output_type": "display_data",
          "data": {
            "text/plain": [
              "<Figure size 432x288 with 1 Axes>"
            ],
            "image/png": "[encoded data removed]"
          },
          "metadata": {
            "needs_background": "light"
          }
        }
      ]
    },
    {
      "cell_type": "code",
      "source": [],
      "metadata": {
        "id": "OUt3q4a__OTa"
      },
      "execution_count": null,
      "outputs": []
    },
    {
      "cell_type": "code",
      "source": [
        "x_train = x[:884]\n",
        "x_test = x[884:]\n",
        "\n",
        "y_train = y[:884]\n",
        "y_test = y[884:]\n",
        "\n",
        "from sklearn.svm import SVR\n",
        "regressor = SVR(kernel = 'rbf')\n",
        "regressor.fit(x_train, y_train)\n"
      ],
      "metadata": {
        "colab": {
          "base_uri": "https://localhost:8080/"
        },
        "id": "FAYwKeLs55WU",
        "outputId": "b01ad605-0e6b-48e4-e3f2-838f60195673"
      },
      "execution_count": null,
      "outputs": [
        {
          "output_type": "execute_result",
          "data": {
            "text/plain": [
              "SVR()"
            ]
          },
          "metadata": {},
          "execution_count": 265
        }
      ]
    },
    {
      "cell_type": "code",
      "source": [
        "y_predicted= regressor.predict(x_test)\n",
        "y_predicted.shape\n",
        "y_predicted.shape,y_test.shape\n",
        "\n"
      ],
      "metadata": {
        "colab": {
          "base_uri": "https://localhost:8080/"
        },
        "id": "QAtRcLsi_eWG",
        "outputId": "f7646f03-f9db-4211-dc6d-302b38bf12b6"
      },
      "execution_count": null,
      "outputs": [
        {
          "output_type": "execute_result",
          "data": {
            "text/plain": [
              "((220,), (220,))"
            ]
          },
          "metadata": {},
          "execution_count": 266
        }
      ]
    },
    {
      "cell_type": "code",
      "source": [
        "import numpy\n",
        "y_predicted_1 = y_predicted.reshape(1,220)\n",
        "y_test_1 = y_test.to_numpy()\n",
        "APE = abs(numpy.subtract(y_predicted_1,y_test_1))/y_test_1*100\n",
        "MAPE = numpy.mean(APE)\n",
        "MAPE"
      ],
      "metadata": {
        "colab": {
          "base_uri": "https://localhost:8080/"
        },
        "id": "ua6Ybhaq_gkZ",
        "outputId": "8220edbb-d004-4118-afcf-e9f2599e0ef8"
      },
      "execution_count": null,
      "outputs": [
        {
          "output_type": "execute_result",
          "data": {
            "text/plain": [
              "3.8296057561351033"
            ]
          },
          "metadata": {},
          "execution_count": 267
        }
      ]
    },
    {
      "cell_type": "code",
      "source": [],
      "metadata": {
        "id": "wdvPrUHr_h6U"
      },
      "execution_count": null,
      "outputs": []
    },
    {
      "cell_type": "code",
      "source": [
        "\n",
        "plt.plot(y_predicted)\n",
        "plt.plot(y_test_1)\n",
        "plt.title('Actual Vs Predicted for SVR')\n",
        "#plt.ylabel('loss')\n",
        "#plt.xlabel('epoch')\n",
        "plt.legend(['y_predicted', 'y_test'], loc='upper right')\n",
        "plt.show()"
      ],
      "metadata": {
        "colab": {
          "base_uri": "https://localhost:8080/",
          "height": 281
        },
        "id": "zTXWtNyk_iCe",
        "outputId": "f00d75cb-cfd4-4d89-d54e-69ce1780e374"
      },
      "execution_count": null,
      "outputs": [
        {
          "output_type": "display_data",
          "data": {
            "text/plain": [
              "<Figure size 432x288 with 1 Axes>"
            ],
            "image/png": "[encoded data removed]"
          },
          "metadata": {
            "needs_background": "light"
          }
        }
      ]
    },
    {
      "cell_type": "code",
      "source": [],
      "metadata": {
        "id": "9y_df8m5AX_b"
      },
      "execution_count": null,
      "outputs": []
    },
    {
      "cell_type": "code",
      "source": [],
      "metadata": {
        "id": "QH1VRXIbAYFI"
      },
      "execution_count": null,
      "outputs": []
    },
    {
      "cell_type": "markdown",
      "source": [
        "# **Moving average**"
      ],
      "metadata": {
        "id": "-AftrV7HXB7B"
      }
    },
    {
      "cell_type": "code",
      "source": [
        "window_size = 5"
      ],
      "metadata": {
        "id": "IKStoT0QAYJE"
      },
      "execution_count": null,
      "outputs": []
    },
    {
      "cell_type": "code",
      "source": [
        "numbers_series = pd.Series(y)\n",
        "windows = numbers_series.rolling(window_size)\n",
        "moving_averages = windows.mean()"
      ],
      "metadata": {
        "id": "yrYHT2m9AYOa"
      },
      "execution_count": null,
      "outputs": []
    },
    {
      "cell_type": "code",
      "source": [
        "moving_averages_list = moving_averages.tolist()"
      ],
      "metadata": {
        "id": "F9l8vfvMAm6P"
      },
      "execution_count": null,
      "outputs": []
    },
    {
      "cell_type": "code",
      "source": [
        "final_list = moving_averages_list[window_size - 1:]\n",
        "print(final_list)"
      ],
      "metadata": {
        "colab": {
          "base_uri": "https://localhost:8080/"
        },
        "id": "MozCB-GHApiX",
        "outputId": "30b37bb2-2052-429d-e9bb-f82eedaed8ab"
      },
      "execution_count": null,
      "outputs": [
        {
          "output_type": "stream",
          "name": "stdout",
          "text": [
            "[56.2, 66.8, 60.2, 52.2, 43.8, 32.6, 21.2, 23.0, 26.4, 31.6, 31.6, 29.8, 31.0, 24.4, 14.2, 9.4, 4.6, -1.4, -0.8, 1.4, 1.4, 4.4, 8.0, 11.4, 14.4, 18.8, 19.4, 23.6, 27.4, 33.2, 43.0, 49.8, 51.0, 55.0, 57.2, 56.0, 61.2, 75.2, 87.6, 99.0, 105.6, 105.6, 105.6, 105.8, 118.8, 130.6, 151.0, 135.2, 120.8, 97.2, 77.2, 60.6, 64.8, 70.8, 66.6, 60.0, 44.4, 39.8, 38.8, 41.8, 46.0, 48.6, 47.4, 42.4, 37.6, 35.4, 35.6, 37.2, 30.6, 28.4, 23.6, 27.8, 30.0, 36.6, 35.4, 37.2, 9.4, -27.6, -38.2, -67.4, -16.0, 82.8, 128.0, 133.6, 203.0, 212.0, 159.6, 181.2, 234.4, 196.4, 156.2, 142.4, 141.6, 105.8, 127.2, 140.0, 133.8, 100.6, 94.8, 85.0, 72.8, 18.4, -47.6, -142.6, -96.2, -168.4, -96.0, 2.8, 118.6, 184.6, 305.0, 379.0, 410.8, 382.8, 294.2, 265.4, 222.2, 169.2, 192.8, 187.0, 153.4, 120.6, 149.8, 162.8, 167.4, 171.0, 150.6, 115.0, 92.8, 60.0, 52.2, 52.6, 47.0, 33.6, 35.8, 45.6, 56.0, 53.0, 46.2, 40.2, 33.0, 29.0, 36.8, 35.8, 42.4, 48.8, 45.6, 46.4, 55.4, 57.6, 58.4, 70.4, 74.8, 66.4, 58.0, 46.4, 30.0, 15.8, 12.6, 8.4, 1.8, 0.0, 1.8, 4.2, 8.2, 15.0, 15.6, 23.0, 31.8, 38.4, 44.0, 62.0, 70.4, 81.0, 92.2, 113.2, 101.0, 93.8, 85.0, 73.2, 50.4, 63.2, 65.6, 61.6, 62.2, 61.4, 45.6, 40.6, 38.6, 31.2, 26.2, 30.6, 44.6, 77.0, 99.0, 123.4, 127.2, 113.2, 86.8, 69.6, 47.8, 42.4, 92.4, 98.2, 99.0, 117.8, 115.6, 67.4, 55.6, 51.6, 31.4, 32.8, 28.6, 30.8, 41.6, 66.6, 72.8, 70.0, 65.0, 56.6, 43.4, 35.4, 35.2, 34.4, 32.2, 21.4, 22.4, 26.2, 32.6, 42.6, 47.4, 3.8, 8.8, 62.4, 80.4, 78.4, 133.2, 143.6, 107.0, 114.8, 128.2, 154.0, 178.2, 200.8, 241.4, 240.0, 161.4, 165.4, 188.6, 82.0, 28.4, 94.0, 61.8, 14.6, 55.6, 109.6, 98.8, 104.6, 93.6, 87.8, 72.8, 65.0, 58.8, 53.6, 56.8, 59.6, 52.4, 42.6, 96.0, 132.8, 133.0, 136.2, 168.0, 149.0, 113.6, 119.8, 119.6, 98.8, 74.4, 86.0, 79.6, 79.6, 66.0, 58.0, 43.6, 83.0, 85.4, 103.4, 119.6, 55.6, -32.0, -116.2, -175.0, -182.2, -107.8, -37.8, 65.8, 129.4, 142.6, 179.0, 175.0, 165.8, 152.8, 129.8, 82.2, 61.8, 53.2, 44.4, 38.6, 35.4, 41.4, 42.0, 52.2, 64.8, 64.2, 56.2, 48.2, 41.0, 25.4, 18.6, 14.8, 9.8, -1.0, 1.0, 6.0, 11.6, 16.6, 23.6, 26.8, 37.8, 47.0, 57.2, 66.6, 94.0, 112.8, 104.6, 95.2, 89.6, 64.8, 39.6, 46.0, 54.2, 58.0, 56.8, 55.8, 48.8, 41.0, 34.0, 32.8, 31.0, 73.4, 88.4, 107.2, 114.2, 125.2, 98.2, 83.4, 75.6, 63.6, 54.0, 41.4, 47.8, 52.2, 61.8, 64.4, 67.8, 57.6, 46.6, 49.8, 3.6, 4.4, 23.0, 42.4, 41.0, 97.2, 100.6, 111.2, 137.0, 149.0, 160.2, 171.4, 156.4, 128.0, 106.6, 80.8, 66.0, 98.2, 42.4, 49.2, 53.2, 47.0, 5.8, 99.4, 155.4, 177.2, 208.8, 249.0, 236.8, 188.2, 176.4, 171.8, 167.8, 128.0, 124.8, 115.2, 103.2, 75.8, 66.0, 51.4, 41.8, 23.2, 7.4, 7.6, 11.2, 13.4, 15.8, 23.0, 31.6, 39.8, 50.8, 65.6, 71.0, 73.8, 82.4, 78.2, 67.8, 64.6, 63.6, 56.4, 57.8, 58.4, 66.6, 64.8, 62.8, 69.0, 71.4, 60.4, 55.2, 54.0, 46.4, 38.8, 34.6, 64.2, 95.0, 134.2, 149.8, 165.4, 146.4, 120.6, 75.8, 64.0, 52.4, 40.8, 80.4, 128.2, 133.4, 159.4, 176.6, 129.2, 130.6, 127.8, 114.4, 120.2, 118.2, 73.6, 71.6, 62.6, 48.8, 57.4, 50.8, 46.0, 38.0, 27.6, 12.6, 11.0, 6.2, 8.0, 10.0, 19.0, 39.8, 76.4, 98.8, 119.0, 117.6, 102.6, 74.8, 55.2, 37.0, 40.2, 42.8, 48.8, 50.2, 47.2, 43.2, 49.2, 39.2, 36.0, 35.8, 39.0, 33.6, 39.0, 50.0, 58.4, 69.6, 112.0, 129.6, 158.6, 174.2, 174.8, 131.6, 109.6, 75.6, 55.4, 127.0, 136.4, 77.8, 94.4, 162.6, 104.6, 194.0, 212.4, 210.8, 156.2, 152.6, 70.4, 152.6, 180.6, 209.2, 244.6, 301.2, 336.2, 298.2, 262.2, 206.2, 149.2, 10.4, -64.6, -54.0, -25.6, 19.4, 29.8, 110.6, 101.2, 83.4, 36.0, 109.0, 126.0, 148.6, 220.2, 296.6, 350.4, 273.2, 251.0, 170.0, 81.4, 7.2, 50.2, 42.2, 95.8, 135.6, 143.0, 156.2, 154.8, 120.2, 87.0, 91.2, 125.2, 166.0, 186.0, 195.2, 190.8, 157.0, 128.0, 92.6, 95.0, 87.2, 78.8, 63.4, 50.4, 26.0, 30.4, 33.2, 38.4, 46.6, 15.0, -17.6, 62.4, 64.2, 62.8, 96.0, 166.6, 145.0, 154.0, 176.2, 208.0, 173.8, 120.8, 123.0, 118.6, 110.6, 121.4, 132.8, 169.4, 158.0, 88.2, 24.2, -65.8, -86.6, -41.4, 20.2, 93.8, 181.0, 195.6, 171.4, 199.8, 235.6, 231.8, 137.4, 123.2, 126.4, 118.2, 71.0, 76.4, 85.6, 21.8, -25.8, 28.8, 103.4, 90.8, 133.0, 129.4, 141.0, 94.6, 138.4, 156.8, 118.8, 39.0, 93.0, 51.4, 19.8, 68.4, 129.4, 138.6, 144.6, 176.2, 195.8, 264.2, 158.6, 151.6, 131.0, 109.2, 48.6, 134.0, 177.6, 199.0, 251.4, 301.6, 287.6, 240.8, 215.2, 104.8, -30.4, -5.6, 17.4, 11.6, 81.2, 170.8, 201.2, 130.2, 170.4, 213.4, 279.8, 180.2, 187.2, 93.4, 31.6, -53.8, -22.2, 12.0, 98.6, 118.6, 142.8, 155.4, 156.2, 113.8, 107.0, 111.6, 52.8, 108.2, 125.4, 123.4, 116.2, 210.0, 171.8, 194.8, 179.6, 147.2, 118.0, 98.0, 56.6, 65.2, 36.6, 61.8, 127.8, 173.8, 238.8, 230.0, 185.2, 163.6, 148.8, 127.4, 191.2, 197.6, 150.6, 128.0, 91.8, 84.0, 97.6, 125.2, 135.2, 151.2, 131.8, 111.2, 63.4, 14.6, -53.6, -88.6, -86.4, -65.2, -36.0, 37.4, 100.0, 148.0, 158.4, 195.4, 202.8, 272.2, 289.0, 345.6, 272.8, 187.6, 47.6, -81.8, -134.8, -88.4, -33.4, 31.2, 116.4, 132.8, 159.8, 189.4, 235.4, 283.0, 266.0, 230.6, 203.8, 172.8, 75.0, -5.6, -46.2, -155.2, -170.6, -123.0, -22.4, 47.6, 218.6, 254.6, 315.8, 301.8, 299.2, 221.0, 164.0, 82.4, 59.8, 26.0, 20.8, 21.0, 27.4, 36.8, 49.0, 67.0, 74.8, 91.2, 114.2, 105.2, 93.0, 94.2, 68.2, 37.6, 42.0, 49.8, 54.8, 58.6, 63.6, 57.4, 45.4, 33.6, 42.6, 39.0, 46.0, 48.6, 63.0, 72.2, 86.2, 102.0, 123.2, 115.0, 119.8, 117.2, 113.2, 97.8, 90.8, 78.4, 75.8, 55.6, 44.4, 41.8, 32.2, 28.4, 44.6, 45.6, 44.6, 41.8, 47.6, 38.6, 40.2, 41.6, 50.2, 38.6, 5.8, 72.2, 72.6, 67.0, 89.2, 149.0, 90.0, 98.2, 96.0, 87.4, 82.2, 106.6, 131.2, 139.0, 139.4, 120.4, 92.8, 71.4, 75.4, 77.0, 89.0, 89.2, 77.0, 75.4, 57.8, 41.4, 43.8, 44.6, 79.2, 115.0, 112.6, 106.0, 112.6, 70.2, 15.6, -4.8, 63.4, 28.2, -21.8, -42.2, -21.4, -78.8, -52.0, -5.0, 99.4, 106.2, 123.6, 169.4, 195.2, 131.8, 124.6, 101.8, 60.4, 73.4, 96.6, 105.4, 134.6, 146.4, 130.8, 134.4, 148.4, 128.2, 133.6, 110.0, 87.4, 70.0, 124.4, 173.0, 222.4, 228.6, 246.6, 132.2, -3.2, -122.6, -204.8, -208.0, -140.2, -101.0, -71.4, -75.6, -70.0, -73.2, -29.8, 27.4, 119.0, 100.6, 81.2, 65.4, 48.4, 42.0, 39.6, 38.0, 41.4, 48.4, 53.2, 49.6, 54.8, 8.0, 73.2, 65.4, 74.4, 88.0, 154.0, 86.4, 80.8, 68.2, 58.6, 45.2, 47.6, 48.4, 52.0, 46.8, 38.0, 34.4, 36.4, 42.0, 56.0, 54.6, 53.2, 56.0, 59.0, 57.6, 74.4, 87.6, 102.4, 99.4, 89.4, 82.6, 76.8, 67.8, 63.6, 65.4, 71.6, 60.6, 46.8, 42.2, 34.6, 18.0, 19.6, 27.0, 37.4, 39.4, 44.8, 34.8, 1.8, -36.4, -67.8, -120.2, -42.4, -0.6, 125.0, 164.4, 166.8, 47.2, -32.6, -194.2, -232.0, -222.2, -214.4, -199.6, -102.8, -52.4, 9.4, 86.4, 201.4, 169.8, 164.0, 171.0, 149.0, 84.6, 89.2, 75.8, 48.6, 32.6, 15.0, -11.4, -47.0, -52.2, -44.0, -24.0, 34.8, 102.4, 123.6, 165.6, 184.6, 167.4, 161.4, 166.4, 165.6, 201.2, 274.8, 259.8, 306.8, 370.8, 300.2, 166.8, 109.2, -8.4, -87.2, -52.0, 12.4, 88.6, 135.6, 119.6, 102.0, 78.6, 48.2, 73.6, 124.4, 133.6, 136.6, 157.4, 127.6, 65.6, 56.6, 58.2, 48.0, 51.6, 51.6, 55.0, 53.0, 117.4, 119.2, 120.4, 127.4, 155.4, 105.0, 142.8, 117.0, 144.0, 83.8, 8.4, -33.0, -1.6, -40.8, 23.0, 130.4, 180.4, 175.2, 195.8, 188.6, 142.2, 125.2, 130.2, 130.6, 116.4, 115.8, 106.6, 104.6, 80.4, 70.2, 59.6, 42.8, 66.0, 75.0, 75.2, 80.4, 84.2, 66.2, 69.8, 75.0, 97.0, 118.6, 158.6, 168.0, 170.6, 187.8, 181.2, 141.4, 120.4, 119.6]\n"
          ]
        }
      ]
    },
    {
      "cell_type": "code",
      "source": [
        "final_list_1 = numpy.array(final_list)"
      ],
      "metadata": {
        "id": "bCn9f3moDUdI"
      },
      "execution_count": null,
      "outputs": []
    },
    {
      "cell_type": "code",
      "source": [
        "final_list_1.shape"
      ],
      "metadata": {
        "colab": {
          "base_uri": "https://localhost:8080/"
        },
        "id": "oiz1HrA7Aye4",
        "outputId": "fe0331fd-aa8e-44a3-9559-cb72e82a9f51"
      },
      "execution_count": null,
      "outputs": [
        {
          "output_type": "execute_result",
          "data": {
            "text/plain": [
              "(1100,)"
            ]
          },
          "metadata": {},
          "execution_count": 247
        }
      ]
    },
    {
      "cell_type": "code",
      "source": [
        "y_test = y[4:1204]\n",
        "y_test.shape"
      ],
      "metadata": {
        "colab": {
          "base_uri": "https://localhost:8080/"
        },
        "id": "5wXL0CDhBVBt",
        "outputId": "442ad74e-d3e6-49a8-877c-a2fe866c7d66"
      },
      "execution_count": null,
      "outputs": [
        {
          "output_type": "execute_result",
          "data": {
            "text/plain": [
              "(1100,)"
            ]
          },
          "metadata": {},
          "execution_count": 248
        }
      ]
    },
    {
      "cell_type": "code",
      "source": [],
      "metadata": {
        "id": "pH25RazEWKhz"
      },
      "execution_count": null,
      "outputs": []
    },
    {
      "cell_type": "code",
      "source": [
        "def mape(a, b): \n",
        "    mask = a != 0\n",
        "    return (np.fabs(a - b)/a)[mask].mean()\n"
      ],
      "metadata": {
        "id": "9X7kcC9bWKo4"
      },
      "execution_count": null,
      "outputs": []
    },
    {
      "cell_type": "code",
      "source": [
        "mape(final_list_1,y_test)"
      ],
      "metadata": {
        "colab": {
          "base_uri": "https://localhost:8080/"
        },
        "id": "KCpEn82gWKuB",
        "outputId": "418635af-945d-480c-948f-7d47dea832a1"
      },
      "execution_count": null,
      "outputs": [
        {
          "output_type": "execute_result",
          "data": {
            "text/plain": [
              "0.4497403950844239"
            ]
          },
          "metadata": {},
          "execution_count": 260
        }
      ]
    },
    {
      "cell_type": "code",
      "source": [
        "Actual = y_test[:100]\n",
        "Predicted = final_list_1[:100]"
      ],
      "metadata": {
        "id": "71lqqwiwWbB_"
      },
      "execution_count": null,
      "outputs": []
    },
    {
      "cell_type": "code",
      "source": [
        "plt.plot(Predicted)\n",
        "plt.plot(Actual)\n",
        "plt.title('Actual Vs Predicted for MA')\n",
        "plt.legend(['Predicted', 'Actual'], loc='upper right')\n",
        "plt.show()"
      ],
      "metadata": {
        "colab": {
          "base_uri": "https://localhost:8080/",
          "height": 281
        },
        "id": "r0PDJ9hKTX-C",
        "outputId": "e99b3bbf-c236-4d8a-82be-9d681dd691a8"
      },
      "execution_count": null,
      "outputs": [
        {
          "output_type": "display_data",
          "data": {
            "text/plain": [
              "<Figure size 432x288 with 1 Axes>"
            ],
            "image/png": "[encoded data removed]"
          },
          "metadata": {
            "needs_background": "light"
          }
        }
      ]
    },
    {
      "cell_type": "code",
      "source": [],
      "metadata": {
        "id": "AalJtxlMTYE2"
      },
      "execution_count": null,
      "outputs": []
    },
    {
      "cell_type": "markdown",
      "source": [
        "# **Performance Comparison**"
      ],
      "metadata": {
        "id": "15lC1ITERv3y"
      }
    },
    {
      "cell_type": "code",
      "source": [
        "Regression= 2.8275\n",
        "Neural_network= 0.17726491266625677\n",
        "SVR = 3.8296057561351033\n",
        "MA = 0.4497403950844239"
      ],
      "metadata": {
        "id": "qyLLi_aKRynl"
      },
      "execution_count": null,
      "outputs": []
    },
    {
      "cell_type": "code",
      "source": [
        "import matplotlib.pyplot as plt\n",
        "fig = plt.figure()\n",
        "ax = fig.add_axes([0,0,1,1])\n",
        "Model = ['Regression', 'Neural_network', 'SVR', 'MA']\n",
        "MAPE = [2.8275,0.1772,3.829605,0.4497403950844239]\n",
        "ax.bar(Model,MAPE)\n",
        "plt.title('Performance comparisons')\n",
        "plt.xlabel('Model')\n",
        "plt.ylabel('MAPE')\n",
        "plt.show()"
      ],
      "metadata": {
        "colab": {
          "base_uri": "https://localhost:8080/",
          "height": 367
        },
        "id": "mi7yxymh5H3s",
        "outputId": "76feca4b-feeb-4a89-81d1-3de1e97d6297"
      },
      "execution_count": null,
      "outputs": [
        {
          "output_type": "display_data",
          "data": {
            "text/plain": [
              "<Figure size 432x288 with 1 Axes>"
            ],
            "image/png": "[encoded data removed]"
          },
          "metadata": {
            "needs_background": "light"
          }
        }
      ]
    },
    {
      "cell_type": "code",
      "source": [],
      "metadata": {
        "id": "LvCMbh4X5dgm"
      },
      "execution_count": null,
      "outputs": []
    }
  ],
  "metadata": {
    "colab": {
      "provenance": [],
      "collapsed_sections": [
        "m8VHVytll5z7"
      ]
    },
    "gpuClass": "standard",
    "kernelspec": {
      "display_name": "Python 3",
      "name": "python3"
    },
    "language_info": {
      "name": "python"
    }
  },
  "nbformat": 4,
  "nbformat_minor": 0
}